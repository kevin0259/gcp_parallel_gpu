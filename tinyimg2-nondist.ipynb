{
 "cells": [
  {
   "cell_type": "code",
   "execution_count": 1,
   "metadata": {},
   "outputs": [
    {
     "name": "stdout",
     "output_type": "stream",
     "text": [
      "1.8.0\n"
     ]
    }
   ],
   "source": [
    "import tensorflow as tf\n",
    "import os\n",
    "import time\n",
    "import numpy as np\n",
    "from tensorflow.python.keras import layers\n",
    "print(tf.__version__)"
   ]
  },
  {
   "cell_type": "code",
   "execution_count": 2,
   "metadata": {},
   "outputs": [],
   "source": [
    "# Convolution Block\n",
    "\n",
    "def _conv(x,kernel,name,log=False):\n",
    "    with tf.variable_scope(name):\n",
    "        W = tf.get_variable(initializer=tf.truncated_normal(shape=kernel,stddev=0.01),name='W')\n",
    "        b = tf.get_variable(initializer=tf.constant(0.0,shape=[kernel[3]]),name='b')\n",
    "        conv = tf.nn.conv2d(x, W, strides=[1,1,1,1],padding='SAME')\n",
    "        activation = tf.nn.relu(tf.add(conv,b))\n",
    "        pool = tf.nn.max_pool(activation,ksize=[1,2,2,1],strides=[1,2,2,1],padding='SAME')\n",
    "        if log==True:\n",
    "            tf.summary.histogram(\"weights\",W)\n",
    "            tf.summary.histogram(\"biases\",b)\n",
    "            tf.summary.histogram(\"activations\",activation)\n",
    "        return pool\n",
    "\n",
    "# Dense Block\n",
    "\n",
    "def _dense(x,size_in,size_out,name,relu=False,log=False):\n",
    "    with tf.variable_scope(name):\n",
    "        flat = tf.reshape(x,[-1,size_in])\n",
    "        W = tf.get_variable(initializer=tf.truncated_normal([size_in,size_out],stddev=0.1),name='W')\n",
    "        b = tf.get_variable(initializer=tf.constant(0.0,shape=[size_out]),name='b')\n",
    "        activation = tf.add(tf.matmul(flat,W),b)\n",
    "        if relu==True:\n",
    "            activation = tf.nn.relu(activation)\n",
    "        if log==True:\n",
    "            tf.summary.histogram(\"weights\",W)\n",
    "            tf.summary.histogram(\"biases\",b)\n",
    "            tf.summary.histogram(\"activations\",activation)\n",
    "        return activation"
   ]
  },
  {
   "cell_type": "code",
   "execution_count": 3,
   "metadata": {},
   "outputs": [],
   "source": [
    "def tinyimg_fn(features, labels, mode, params):\n",
    "    \n",
    "    #### 1 INFERNCE MODEL\n",
    "    \n",
    "    input_layer = tf.reshape(features, [-1, 64, 64, 3])\n",
    "    conv1 = _conv(input_layer,kernel=[7,7,3,128],name='conv1',log=params['log'])\n",
    "    conv2 = _conv(conv1,kernel=[5,5,128,128],name='conv2',log=params['log'])\n",
    "    conv3 = _conv(conv2,kernel=[5,5,128,256],name='conv3',log=params['log'])\n",
    "    conv4 = _conv(conv3,kernel=[3,3,256,512],name='conv4',log=params['log'])\n",
    "    dense = _dense(conv4,size_in=4*4*512,size_out=params['dense_units'],\n",
    "                   name='Dense',relu=True,log=params['log'])\n",
    "    if mode==tf.estimator.ModeKeys.TRAIN:\n",
    "        dense = tf.nn.dropout(dense,params['drop_out'])\n",
    "    logits = _dense(dense,size_in=params['dense_units'],\n",
    "                    size_out=200,name='Output',relu=False,log=params['log'])\n",
    "    \n",
    "    #### 2 CALCULATIONS AND METRICS\n",
    "    \n",
    "    predictions = {\"classes\": tf.argmax(input=logits,axis=1),\n",
    "                   \"logits\": logits,\n",
    "                   \"probabilities\": tf.nn.softmax(logits,name='softmax')}\n",
    "    export_outputs = {'predictions': tf.estimator.export.PredictOutput(predictions)}\n",
    "    if (mode==tf.estimator.ModeKeys.TRAIN or mode==tf.estimator.ModeKeys.EVAL):\n",
    "        loss = tf.losses.sparse_softmax_cross_entropy(labels=labels,logits=logits)\n",
    "        #accuracy = tf.metrics.accuracy(\n",
    "        #    labels=labels, predictions=tf.argmax(logits,axis=1))\n",
    "        #metrics = {'accuracy':accuracy}\n",
    "        \n",
    "    #### 3 MODE = PREDICT\n",
    "    \n",
    "    if mode == tf.estimator.ModeKeys.PREDICT:\n",
    "        return tf.estimator.EstimatorSpec(\n",
    "            mode=mode, predictions=predictions, export_outputs=export_outputs)\n",
    "\n",
    "    #### 4 MODE = TRAIN\n",
    "\n",
    "    if mode == tf.estimator.ModeKeys.TRAIN:\n",
    "        learning_rate = tf.train.exponential_decay(\n",
    "            params['learning_rate'],tf.train.get_global_step(),\n",
    "            decay_steps=100000,decay_rate=0.96)\n",
    "        optimizer = tf.train.GradientDescentOptimizer(learning_rate=learning_rate)\n",
    "        if params['replicate']==True:\n",
    "            optimizer = tf.contrib.estimator.TowerOptimizer(optimizer)\n",
    "        train_op = optimizer.minimize(loss=loss,global_step=tf.train.get_global_step())\n",
    "        tf.summary.scalar('learning_rate', learning_rate)\n",
    "        #tf.summary.scalar('accuracy',accuracy[1])\n",
    "        return tf.estimator.EstimatorSpec(\n",
    "            mode=mode, loss=loss, train_op=train_op)\n",
    "    \n",
    "    #### 5 MODE = EVAL\n",
    "    \n",
    "    if mode == tf.estimator.ModeKeys.EVAL:\n",
    "        return tf.estimator.EstimatorSpec(\n",
    "            #mode=mode,loss=loss,eval_metric_ops=metrics)\n",
    "            mode=mode,loss=loss)"
   ]
  },
  {
   "cell_type": "code",
   "execution_count": 4,
   "metadata": {},
   "outputs": [],
   "source": [
    "def parse_tfrecord(example):\n",
    "    feature={'idx'     : tf.FixedLenFeature((), tf.int64),\n",
    "             'label'   : tf.FixedLenFeature((), tf.int64),\n",
    "             'image'   : tf.FixedLenFeature((), tf.string, default_value='')}\n",
    "    parsed = tf.parse_single_example(example, feature)\n",
    "    image = tf.decode_raw(parsed['image'],tf.float32)\n",
    "    image = tf.reshape(image,[64,64,3])\n",
    "    return image, parsed['label']"
   ]
  },
  {
   "cell_type": "code",
   "execution_count": 5,
   "metadata": {},
   "outputs": [],
   "source": [
    "def image_scaling(x):\n",
    "    return tf.image.per_image_standardization(x)"
   ]
  },
  {
   "cell_type": "code",
   "execution_count": 6,
   "metadata": {},
   "outputs": [],
   "source": [
    "def distort(x):\n",
    "    x = tf.image.resize_image_with_crop_or_pad(x, 80, 80)\n",
    "    x = tf.random_crop(x, [64, 64, 3])\n",
    "    x = tf.image.random_flip_left_right(x)\n",
    "    return x"
   ]
  },
  {
   "cell_type": "code",
   "execution_count": 7,
   "metadata": {},
   "outputs": [],
   "source": [
    "def dataset_input_fn(params):\n",
    "    dataset = tf.data.TFRecordDataset(\n",
    "        params['filenames'],num_parallel_reads=params['threads'])\n",
    "    dataset = dataset.map(parse_tfrecord, num_parallel_calls=params['threads'])\n",
    "    dataset = dataset.map(\n",
    "    lambda x,y: (image_scaling(x),y),num_parallel_calls=params['threads'])\n",
    "    if params['mode']==tf.estimator.ModeKeys.TRAIN:\n",
    "        dataset = dataset.map(lambda x,y: (distort(x),y),num_parallel_calls=params['threads'])\n",
    "        dataset = dataset.shuffle(buffer_size=params['shuffle_buff'])\n",
    "    dataset = dataset.repeat()\n",
    "    dataset = dataset.batch(params['batch'])\n",
    "    dataset = dataset.prefetch(2*params['batch'])\n",
    "\n",
    "    return dataset\n"
   ]
  },
  {
   "cell_type": "code",
   "execution_count": 9,
   "metadata": {},
   "outputs": [],
   "source": [
    "model_params  = {'drop_out'      : 0.3,\n",
    "                 'dense_units'   : 1024,\n",
    "                 'learning_rate' : 1e-3,\n",
    "                 'log'           : True,\n",
    "                 'replicate'     : False\n",
    "                }\n",
    "'''\n",
    "distribution = tf.contrib.distribute.MirroredStrategy(num_gpus=8)\n",
    "config = tf.estimator.RunConfig(save_checkpoints_secs = 30,\n",
    "                                keep_checkpoint_max = 5,\n",
    "                                session_config=tf.ConfigProto(\n",
    "                                    allow_soft_placement=True, log_device_placement=True),\n",
    "                                train_distribute = distribution)\n",
    "'''\n",
    "config = tf.estimator.RunConfig(save_checkpoints_secs = 30,keep_checkpoint_max = 5)\n"
   ]
  },
  {
   "cell_type": "code",
   "execution_count": null,
   "metadata": {},
   "outputs": [],
   "source": []
  },
  {
   "cell_type": "code",
   "execution_count": 10,
   "metadata": {},
   "outputs": [
    {
     "name": "stdout",
     "output_type": "stream",
     "text": [
      "/home/tsaikevin/zzz/tinyimagenet/tiny-imagenet-200\r\n"
     ]
    }
   ],
   "source": [
    "!pwd"
   ]
  },
  {
   "cell_type": "code",
   "execution_count": 11,
   "metadata": {},
   "outputs": [
    {
     "name": "stdout",
     "output_type": "stream",
     "text": [
      "./cnn_model/cnn_model_dense(1024)_drop(0.3)_lr(0.001)_20180527021730\n",
      "INFO:tensorflow:Using config: {'_is_chief': True, '_keep_checkpoint_every_n_hours': 10000, '_task_id': 0, '_global_id_in_cluster': 0, '_session_config': None, '_tf_random_seed': None, '_num_worker_replicas': 1, '_save_checkpoints_secs': 30, '_num_ps_replicas': 0, '_task_type': 'worker', '_service': None, '_model_dir': './cnn_model/cnn_model_dense(1024)_drop(0.3)_lr(0.001)_20180527021730', '_save_summary_steps': 100, '_keep_checkpoint_max': 5, '_cluster_spec': <tensorflow.python.training.server_lib.ClusterSpec object at 0x7f4b1cd670b8>, '_log_step_count_steps': 100, '_master': '', '_train_distribute': None, '_evaluation_master': '', '_save_checkpoints_steps': None}\n"
     ]
    }
   ],
   "source": [
    "if model_params['replicate']==True:\n",
    "    model_fn = tf.contrib.estimator.replicate_model_fn(\n",
    "        tinyimg_fn, loss_reduction=tf.losses.Reduction.MEAN)\n",
    "else:\n",
    "    model_fn = tinyimg_fn\n",
    "\n",
    "name = 'cnn_model/cnn_model_'\n",
    "if model_params['replicate']==True:\n",
    "    name = 'cnn_model_dist/cnn_model_'\n",
    "name = name + 'dense(' + str(model_params['dense_units']) + ')_'\n",
    "name = name + 'drop(' + str(model_params['drop_out']) + ')_'\n",
    "name = name + 'lr(' + str(model_params['learning_rate']) + ')_'\n",
    "name = name + time.strftime(\"%Y%m%d%H%M%S\")\n",
    "cnn_dir  = os.path.join('./',name)\n",
    "\n",
    "print(cnn_dir)\n",
    "\n",
    "cnn_classifier = tf.estimator.Estimator(\n",
    "    model_fn=model_fn,model_dir=cnn_dir,params=model_params,config=config)\n",
    "\n"
   ]
  },
  {
   "cell_type": "code",
   "execution_count": 12,
   "metadata": {},
   "outputs": [
    {
     "name": "stdout",
     "output_type": "stream",
     "text": [
      "INFO:tensorflow:Using config: {'_is_chief': True, '_keep_checkpoint_every_n_hours': 10000, '_task_id': 0, '_global_id_in_cluster': 0, '_session_config': None, '_tf_random_seed': None, '_num_worker_replicas': 1, '_save_checkpoints_secs': 30, '_num_ps_replicas': 0, '_task_type': 'worker', '_service': None, '_model_dir': './cnn_model/cnn_model_dense(1024)_drop(0.3)_lr(0.001)_20180527021730', '_save_summary_steps': 100, '_keep_checkpoint_max': 5, '_cluster_spec': <tensorflow.python.training.server_lib.ClusterSpec object at 0x7f4b273c11d0>, '_log_step_count_steps': 100, '_master': '', '_train_distribute': None, '_evaluation_master': '', '_save_checkpoints_steps': None}\n"
     ]
    }
   ],
   "source": [
    "tinyimg_estimator = tf.estimator.Estimator(\n",
    "    model_fn=model_fn,model_dir=cnn_dir,params=model_params,config=config)"
   ]
  },
  {
   "cell_type": "code",
   "execution_count": 13,
   "metadata": {},
   "outputs": [],
   "source": [
    "#train_files = !gsutil ls gs://tsaikevin-data/tiny_imagenet/tiny_imagenet_00*.tfrecords\n",
    "#val_files   = !gsutil ls gs://tsaikevin-data/tiny_imagenet/tiny_imagenet_01*.tfrecords\n",
    "train_files = !ls tiny_imagenet_2_00*.tfrecords\n",
    "val_files   = !ls tiny_imagenet_2_01*.tfrecords\n",
    "\n",
    "train_params = {'filenames'    : train_files,\n",
    "                'mode'         : tf.estimator.ModeKeys.TRAIN,\n",
    "                'threads'      : 16,\n",
    "                'shuffle_buff' : 100000,\n",
    "                'batch'        : 100\n",
    "               }\n",
    "\n",
    "eval_params  = {'filenames'    : val_files,\n",
    "                'mode'         : tf.estimator.ModeKeys.EVAL,\n",
    "                'threads'      : 8,\n",
    "                'batch'        : 200\n",
    "               }\n",
    "\n",
    "train_spec = tf.estimator.TrainSpec(input_fn=lambda: dataset_input_fn(train_params),max_steps=2000)\n",
    "eval_spec  = tf.estimator.EvalSpec(input_fn=lambda: dataset_input_fn(eval_params),steps=10,throttle_secs=600)\n",
    "\n"
   ]
  },
  {
   "cell_type": "code",
   "execution_count": 14,
   "metadata": {},
   "outputs": [
    {
     "name": "stdout",
     "output_type": "stream",
     "text": [
      "CommandException: The rm command (without -I) expects at least one URL.\n",
      "INFO:tensorflow:Running training and evaluation locally (non-distributed).\n",
      "INFO:tensorflow:Start train and evaluate loop. The evaluate will happen after 600 secs (eval_spec.throttle_secs) or training is finished.\n",
      "INFO:tensorflow:Calling model_fn.\n",
      "INFO:tensorflow:Done calling model_fn.\n",
      "INFO:tensorflow:Create CheckpointSaverHook.\n",
      "INFO:tensorflow:Graph was finalized.\n",
      "INFO:tensorflow:Running local_init_op.\n",
      "INFO:tensorflow:Done running local_init_op.\n",
      "INFO:tensorflow:Saving checkpoints for 1 into ./cnn_model/cnn_model_dense(1024)_drop(0.3)_lr(0.001)_20180527021730/model.ckpt.\n",
      "INFO:tensorflow:step = 0, loss = 5.356467\n",
      "INFO:tensorflow:global_step/sec: 6.07185\n",
      "INFO:tensorflow:step = 100, loss = 5.310028 (16.471 sec)\n",
      "INFO:tensorflow:Saving checkpoints for 193 into ./cnn_model/cnn_model_dense(1024)_drop(0.3)_lr(0.001)_20180527021730/model.ckpt.\n",
      "INFO:tensorflow:global_step/sec: 6.10852\n",
      "INFO:tensorflow:step = 200, loss = 5.304114 (16.372 sec)\n",
      "INFO:tensorflow:global_step/sec: 6.13993\n",
      "INFO:tensorflow:step = 300, loss = 5.2916126 (16.286 sec)\n",
      "INFO:tensorflow:Saving checkpoints for 375 into ./cnn_model/cnn_model_dense(1024)_drop(0.3)_lr(0.001)_20180527021730/model.ckpt.\n",
      "INFO:tensorflow:global_step/sec: 6.07774\n",
      "INFO:tensorflow:step = 400, loss = 5.297967 (16.453 sec)\n",
      "INFO:tensorflow:global_step/sec: 6.1056\n",
      "INFO:tensorflow:step = 500, loss = 5.2910657 (16.378 sec)\n",
      "INFO:tensorflow:Saving checkpoints for 556 into ./cnn_model/cnn_model_dense(1024)_drop(0.3)_lr(0.001)_20180527021730/model.ckpt.\n",
      "INFO:tensorflow:global_step/sec: 6.09101\n",
      "INFO:tensorflow:step = 600, loss = 5.2981324 (16.418 sec)\n",
      "INFO:tensorflow:global_step/sec: 6.03269\n",
      "INFO:tensorflow:step = 700, loss = 5.2881317 (16.577 sec)\n",
      "INFO:tensorflow:Saving checkpoints for 736 into ./cnn_model/cnn_model_dense(1024)_drop(0.3)_lr(0.001)_20180527021730/model.ckpt.\n",
      "INFO:tensorflow:global_step/sec: 6.07291\n",
      "INFO:tensorflow:step = 800, loss = 5.285392 (16.466 sec)\n",
      "INFO:tensorflow:global_step/sec: 6.13084\n",
      "INFO:tensorflow:step = 900, loss = 5.2965174 (16.311 sec)\n",
      "INFO:tensorflow:Saving checkpoints for 918 into ./cnn_model/cnn_model_dense(1024)_drop(0.3)_lr(0.001)_20180527021730/model.ckpt.\n",
      "INFO:tensorflow:global_step/sec: 6.09979\n",
      "INFO:tensorflow:step = 1000, loss = 5.2861867 (16.394 sec)\n",
      "INFO:tensorflow:Saving checkpoints for 1101 into ./cnn_model/cnn_model_dense(1024)_drop(0.3)_lr(0.001)_20180527021730/model.ckpt.\n",
      "INFO:tensorflow:global_step/sec: 6.10575\n",
      "INFO:tensorflow:step = 1100, loss = 5.269168 (16.379 sec)\n",
      "INFO:tensorflow:global_step/sec: 6.11765\n",
      "INFO:tensorflow:step = 1200, loss = 5.2782288 (16.345 sec)\n",
      "INFO:tensorflow:Saving checkpoints for 1294 into ./cnn_model/cnn_model_dense(1024)_drop(0.3)_lr(0.001)_20180527021730/model.ckpt.\n",
      "INFO:tensorflow:global_step/sec: 6.09679\n",
      "INFO:tensorflow:step = 1300, loss = 5.270728 (16.402 sec)\n",
      "INFO:tensorflow:global_step/sec: 6.13551\n",
      "INFO:tensorflow:step = 1400, loss = 5.2751436 (16.299 sec)\n",
      "INFO:tensorflow:Saving checkpoints for 1476 into ./cnn_model/cnn_model_dense(1024)_drop(0.3)_lr(0.001)_20180527021730/model.ckpt.\n",
      "INFO:tensorflow:global_step/sec: 6.08756\n",
      "INFO:tensorflow:step = 1500, loss = 5.2687316 (16.426 sec)\n",
      "INFO:tensorflow:global_step/sec: 5.88366\n",
      "INFO:tensorflow:step = 1600, loss = 5.251266 (16.997 sec)\n",
      "INFO:tensorflow:Saving checkpoints for 1653 into ./cnn_model/cnn_model_dense(1024)_drop(0.3)_lr(0.001)_20180527021730/model.ckpt.\n",
      "INFO:tensorflow:global_step/sec: 6.07979\n",
      "INFO:tensorflow:step = 1700, loss = 5.2895036 (16.447 sec)\n",
      "INFO:tensorflow:global_step/sec: 6.10623\n",
      "INFO:tensorflow:step = 1800, loss = 5.2724943 (16.377 sec)\n",
      "INFO:tensorflow:Saving checkpoints for 1834 into ./cnn_model/cnn_model_dense(1024)_drop(0.3)_lr(0.001)_20180527021730/model.ckpt.\n",
      "INFO:tensorflow:global_step/sec: 6.09104\n",
      "INFO:tensorflow:step = 1900, loss = 5.261364 (16.418 sec)\n",
      "INFO:tensorflow:Saving checkpoints for 2000 into ./cnn_model/cnn_model_dense(1024)_drop(0.3)_lr(0.001)_20180527021730/model.ckpt.\n",
      "INFO:tensorflow:Loss for final step: 5.271021.\n",
      "INFO:tensorflow:Calling model_fn.\n",
      "INFO:tensorflow:Done calling model_fn.\n",
      "INFO:tensorflow:Starting evaluation at 2018-05-27-02:23:21\n",
      "INFO:tensorflow:Graph was finalized.\n",
      "INFO:tensorflow:Restoring parameters from ./cnn_model/cnn_model_dense(1024)_drop(0.3)_lr(0.001)_20180527021730/model.ckpt-2000\n",
      "INFO:tensorflow:Running local_init_op.\n",
      "INFO:tensorflow:Done running local_init_op.\n",
      "INFO:tensorflow:Evaluation [1/10]\n",
      "INFO:tensorflow:Evaluation [2/10]\n",
      "INFO:tensorflow:Evaluation [3/10]\n",
      "INFO:tensorflow:Evaluation [4/10]\n",
      "INFO:tensorflow:Evaluation [5/10]\n",
      "INFO:tensorflow:Evaluation [6/10]\n",
      "INFO:tensorflow:Evaluation [7/10]\n",
      "INFO:tensorflow:Evaluation [8/10]\n",
      "INFO:tensorflow:Evaluation [9/10]\n",
      "INFO:tensorflow:Evaluation [10/10]\n",
      "INFO:tensorflow:Finished evaluation at 2018-05-27-02:23:23\n",
      "INFO:tensorflow:Saving dict for global step 2000: global_step = 2000, loss = 5.2569203\n"
     ]
    }
   ],
   "source": [
    "!gsutil rm -rf $model_dir\n",
    "tf.estimator.train_and_evaluate(tinyimg_estimator, train_spec, eval_spec)"
   ]
  },
  {
   "cell_type": "code",
   "execution_count": null,
   "metadata": {},
   "outputs": [],
   "source": []
  },
  {
   "cell_type": "code",
   "execution_count": 16,
   "metadata": {},
   "outputs": [
    {
     "name": "stdout",
     "output_type": "stream",
     "text": [
      "ls: cannot access 'tiny_imagenet_00*.tfrecords': No such file or directory\r\n"
     ]
    }
   ],
   "source": [
    "!ls tiny_imagenet_00*.tfrecords"
   ]
  },
  {
   "cell_type": "code",
   "execution_count": 17,
   "metadata": {},
   "outputs": [
    {
     "name": "stdout",
     "output_type": "stream",
     "text": [
      "cnn_model\t\t\t      tiny_imagenet_2_007.tfrecords\r\n",
      "cnn_model_dist\t\t\t      tiny_imagenet_2_008.tfrecords\r\n",
      "create_tfrecords.ipynb\t\t      tiny_imagenet_2_009.tfrecords\r\n",
      "model.py\t\t\t      tiny_imagenet_2_010.tfrecords\r\n",
      "__pycache__\t\t\t      tiny_imagenet_2_011.tfrecords\r\n",
      "resnet_v2\t\t\t      tinyimg2.ipynb\r\n",
      "resnet_v2_imagenet_savedmodel.tar.gz  tinyimg-distributed.ipynb\r\n",
      "test\t\t\t\t      tinyimg.ipynb\r\n",
      "tiny_imagenet_2_000.tfrecords\t      tinyimg-tf18-distributed.ipynb\r\n",
      "tiny_imagenet_2_001.tfrecords\t      tinyimg-tf18.ipynb\r\n",
      "tiny_imagenet_2_002.tfrecords\t      train\r\n",
      "tiny_imagenet_2_003.tfrecords\t      val\r\n",
      "tiny_imagenet_2_004.tfrecords\t      wnids.txt\r\n",
      "tiny_imagenet_2_005.tfrecords\t      words.txt\r\n",
      "tiny_imagenet_2_006.tfrecords\r\n"
     ]
    }
   ],
   "source": [
    "!ls"
   ]
  },
  {
   "cell_type": "code",
   "execution_count": null,
   "metadata": {},
   "outputs": [],
   "source": []
  }
 ],
 "metadata": {
  "kernelspec": {
   "display_name": "Python 3",
   "language": "python",
   "name": "python3"
  },
  "language_info": {
   "codemirror_mode": {
    "name": "ipython",
    "version": 3
   },
   "file_extension": ".py",
   "mimetype": "text/x-python",
   "name": "python",
   "nbconvert_exporter": "python",
   "pygments_lexer": "ipython3",
   "version": "3.5.2"
  }
 },
 "nbformat": 4,
 "nbformat_minor": 2
}
