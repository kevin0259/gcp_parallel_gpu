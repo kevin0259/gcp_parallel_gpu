{
 "cells": [
  {
   "cell_type": "markdown",
   "metadata": {},
   "source": [
    "# Keras - Tensorboard\n",
    "In this lab you will use Tensorboard functionalities with a Keras model with Tensorflow backend"
   ]
  },
  {
   "cell_type": "code",
   "execution_count": 1,
   "metadata": {
    "scrolled": true
   },
   "outputs": [
    {
     "name": "stderr",
     "output_type": "stream",
     "text": [
      "/usr/lib/python3/dist-packages/h5py/__init__.py:34: FutureWarning: Conversion of the second argument of issubdtype from `float` to `np.floating` is deprecated. In future, it will be treated as `np.float64 == np.dtype(float).type`.\n",
      "  from ._conv import register_converters as _register_converters\n"
     ]
    }
   ],
   "source": [
    "import tensorflow as tf\n",
    "from tensorflow import keras\n",
    "from tensorflow.keras.models import Sequential\n",
    "from tensorflow.keras.layers import Dense, Dropout, Activation, Flatten, Conv2D, MaxPooling2D\n",
    "from tensorflow.keras.optimizers import RMSprop\n",
    "import os\n",
    "import numpy as np"
   ]
  },
  {
   "cell_type": "markdown",
   "metadata": {},
   "source": [
    "### Load Cifar10 data"
   ]
  },
  {
   "cell_type": "code",
   "execution_count": 2,
   "metadata": {
    "scrolled": true
   },
   "outputs": [
    {
     "name": "stdout",
     "output_type": "stream",
     "text": [
      "x_train shape: (50000, 32, 32, 3)\n",
      "50000 train samples\n",
      "10000 test samples\n"
     ]
    }
   ],
   "source": [
    "from tensorflow.keras.datasets import cifar10\n",
    "# The data, split between train and test sets:\n",
    "(x_train, y_train), (x_test, y_test) = cifar10.load_data()\n",
    "print('x_train shape:', x_train.shape)\n",
    "print(x_train.shape[0], 'train samples')\n",
    "print(x_test.shape[0], 'test samples')"
   ]
  },
  {
   "cell_type": "markdown",
   "metadata": {},
   "source": [
    "### Setup Keras model"
   ]
  },
  {
   "cell_type": "code",
   "execution_count": 3,
   "metadata": {
    "scrolled": true
   },
   "outputs": [],
   "source": [
    "batch_size = 32\n",
    "num_classes = 10\n",
    "epochs = 100\n",
    "data_augmentation = True\n",
    "num_predictions = 20"
   ]
  },
  {
   "cell_type": "code",
   "execution_count": 4,
   "metadata": {
    "scrolled": true
   },
   "outputs": [],
   "source": [
    "#Define Keras model\n",
    "model = Sequential()\n",
    "model.add(Conv2D(128, (5, 5), padding='same',\n",
    "                 input_shape=x_train.shape[1:]))\n",
    "model.add(Activation('relu'))\n",
    "model.add(MaxPooling2D(pool_size=(2, 2), strides=(2,2)))\n",
    "\n",
    "model.add(Conv2D(128, (5,5)))\n",
    "model.add(Activation('relu'))\n",
    "model.add(MaxPooling2D(pool_size=(2, 2), strides=(2,2)))\n",
    "\n",
    "model.add(Conv2D(256, (3, 3), padding='same'))\n",
    "model.add(Activation('relu'))\n",
    "model.add(MaxPooling2D(pool_size=(2, 2), strides=(2,2)))\n",
    "\n",
    "model.add(Conv2D(512, (3, 3)))\n",
    "model.add(Activation('relu'))\n",
    "#model.add(MaxPooling2D(pool_size=(1,1), strides=(1,1)))\n",
    "\n",
    "model.add(Flatten())\n",
    "model.add(Dense(1024))\n",
    "model.add(Activation('relu'))\n",
    "\n",
    "model.add(Dense(num_classes))\n",
    "model.add(Dropout(0.2))\n",
    "model.add(Activation('softmax'))\n",
    "\n",
    "\n",
    "opt = RMSprop(lr=0.0001, decay=1e-6)\n",
    "\n",
    "# Let's train the model using RMSprop\n",
    "model.compile(loss='categorical_crossentropy',\n",
    "              optimizer=opt,\n",
    "              metrics=['accuracy'])\n",
    "\n"
   ]
  },
  {
   "cell_type": "code",
   "execution_count": 5,
   "metadata": {
    "scrolled": true
   },
   "outputs": [],
   "source": [
    "# Convert class vectors to binary class matrices.\n",
    "y_train = keras.utils.to_categorical(y_train, num_classes)\n",
    "y_test = keras.utils.to_categorical(y_test, num_classes)"
   ]
  },
  {
   "cell_type": "code",
   "execution_count": 6,
   "metadata": {
    "scrolled": true
   },
   "outputs": [],
   "source": [
    "x_train = x_train.astype('float32')\n",
    "x_test = x_test.astype('float32')"
   ]
  },
  {
   "cell_type": "markdown",
   "metadata": {},
   "source": [
    "### Setup output for Tensorboard"
   ]
  },
  {
   "cell_type": "code",
   "execution_count": 7,
   "metadata": {
    "scrolled": true
   },
   "outputs": [],
   "source": [
    "#Include dependencies to support Tensorboard callback\n",
    "from tensorflow.keras.callbacks import Callback, EarlyStopping, ModelCheckpoint, TensorBoard"
   ]
  },
  {
   "cell_type": "code",
   "execution_count": 8,
   "metadata": {
    "scrolled": true
   },
   "outputs": [],
   "source": [
    "#Configure Tensorboard callback\n",
    "tensorboard = TensorBoard(log_dir='./logs/tb-keras', histogram_freq=1, \n",
    "                          batch_size=32, write_graph=True, write_grads=True, write_images=False)"
   ]
  },
  {
   "cell_type": "code",
   "execution_count": null,
   "metadata": {
    "scrolled": false
   },
   "outputs": [
    {
     "name": "stdout",
     "output_type": "stream",
     "text": [
      "Train on 50000 samples, validate on 10000 samples\n",
      "Epoch 1/100\n",
      "50000/50000 [==============================] - 13s 269us/step - loss: 1.7662 - acc: 0.3930 - val_loss: 1.3030 - val_acc: 0.5405\n",
      "Epoch 2/100\n",
      "50000/50000 [==============================] - 12s 240us/step - loss: 1.3202 - acc: 0.5329 - val_loss: 1.0989 - val_acc: 0.6204\n",
      "Epoch 3/100\n",
      "50000/50000 [==============================] - 12s 240us/step - loss: 1.1359 - acc: 0.5990 - val_loss: 1.0832 - val_acc: 0.6442\n",
      "Epoch 4/100\n",
      "50000/50000 [==============================] - 12s 240us/step - loss: 1.0077 - acc: 0.6416 - val_loss: 0.9520 - val_acc: 0.6808\n",
      "Epoch 5/100\n",
      "50000/50000 [==============================] - 12s 239us/step - loss: 0.9091 - acc: 0.6758 - val_loss: 1.1116 - val_acc: 0.6337\n",
      "Epoch 6/100\n",
      "50000/50000 [==============================] - 12s 238us/step - loss: 0.8355 - acc: 0.6970 - val_loss: 0.8981 - val_acc: 0.7039\n",
      "Epoch 7/100\n",
      "50000/50000 [==============================] - 12s 239us/step - loss: 0.7792 - acc: 0.7162 - val_loss: 1.0167 - val_acc: 0.7082\n",
      "Epoch 8/100\n",
      "50000/50000 [==============================] - 12s 239us/step - loss: 0.7429 - acc: 0.7297 - val_loss: 1.0188 - val_acc: 0.6912\n",
      "Epoch 9/100\n",
      "50000/50000 [==============================] - 12s 238us/step - loss: 0.7209 - acc: 0.7377 - val_loss: 1.0178 - val_acc: 0.7009\n",
      "Epoch 10/100\n",
      "50000/50000 [==============================] - 12s 238us/step - loss: 0.7104 - acc: 0.7430 - val_loss: 1.0216 - val_acc: 0.7283\n",
      "Epoch 11/100\n",
      "50000/50000 [==============================] - 12s 239us/step - loss: 0.6858 - acc: 0.7528 - val_loss: 1.0184 - val_acc: 0.7169\n",
      "Epoch 12/100\n",
      "50000/50000 [==============================] - 12s 239us/step - loss: 0.6933 - acc: 0.7506 - val_loss: 1.5071 - val_acc: 0.7023\n",
      "Epoch 13/100\n",
      "50000/50000 [==============================] - 12s 239us/step - loss: 0.6812 - acc: 0.7536 - val_loss: 1.0220 - val_acc: 0.6826\n",
      "Epoch 14/100\n",
      "50000/50000 [==============================] - 12s 237us/step - loss: 0.6886 - acc: 0.7517 - val_loss: 1.5048 - val_acc: 0.6948\n",
      "Epoch 15/100\n",
      "50000/50000 [==============================] - 12s 236us/step - loss: 0.6872 - acc: 0.7543 - val_loss: 1.2167 - val_acc: 0.7147\n",
      "Epoch 16/100\n",
      "50000/50000 [==============================] - 12s 237us/step - loss: 0.6806 - acc: 0.7571 - val_loss: 1.2580 - val_acc: 0.7381\n",
      "Epoch 17/100\n",
      "50000/50000 [==============================] - 12s 240us/step - loss: 0.6650 - acc: 0.7624 - val_loss: 1.6184 - val_acc: 0.7206\n",
      "Epoch 18/100\n",
      "50000/50000 [==============================] - 12s 240us/step - loss: 0.6679 - acc: 0.7634 - val_loss: 1.2809 - val_acc: 0.7236\n",
      "Epoch 19/100\n",
      "50000/50000 [==============================] - 12s 240us/step - loss: 0.6685 - acc: 0.7652 - val_loss: 1.0716 - val_acc: 0.6952\n",
      "Epoch 20/100\n",
      "50000/50000 [==============================] - 12s 240us/step - loss: 0.6670 - acc: 0.7656 - val_loss: 1.1745 - val_acc: 0.7159\n",
      "Epoch 21/100\n",
      "50000/50000 [==============================] - 12s 240us/step - loss: 0.6722 - acc: 0.7669 - val_loss: 1.6166 - val_acc: 0.6873\n",
      "Epoch 22/100\n",
      "50000/50000 [==============================] - 12s 240us/step - loss: 0.6836 - acc: 0.7680 - val_loss: 1.4059 - val_acc: 0.7297\n",
      "Epoch 23/100\n",
      "50000/50000 [==============================] - 12s 239us/step - loss: 0.6801 - acc: 0.7646 - val_loss: 1.5727 - val_acc: 0.6834\n",
      "Epoch 24/100\n",
      "50000/50000 [==============================] - 12s 239us/step - loss: 0.6814 - acc: 0.7682 - val_loss: 1.2409 - val_acc: 0.6813\n",
      "Epoch 25/100\n",
      "50000/50000 [==============================] - 12s 238us/step - loss: 0.6922 - acc: 0.7645 - val_loss: 1.4283 - val_acc: 0.7220\n",
      "Epoch 26/100\n",
      "50000/50000 [==============================] - 12s 240us/step - loss: 0.6954 - acc: 0.7623 - val_loss: 1.3852 - val_acc: 0.6946\n",
      "Epoch 27/100\n",
      "50000/50000 [==============================] - 12s 240us/step - loss: 0.6914 - acc: 0.7639 - val_loss: 1.2832 - val_acc: 0.7286\n",
      "Epoch 28/100\n",
      "50000/50000 [==============================] - 12s 240us/step - loss: 0.6933 - acc: 0.7655 - val_loss: 1.8287 - val_acc: 0.7299\n",
      "Epoch 29/100\n",
      "50000/50000 [==============================] - 12s 240us/step - loss: 0.7037 - acc: 0.7621 - val_loss: 2.1274 - val_acc: 0.5507\n",
      "Epoch 30/100\n",
      "50000/50000 [==============================] - 12s 240us/step - loss: 0.7163 - acc: 0.7618 - val_loss: 1.8470 - val_acc: 0.7119\n",
      "Epoch 31/100\n",
      "50000/50000 [==============================] - 12s 239us/step - loss: 0.7292 - acc: 0.7570 - val_loss: 1.6495 - val_acc: 0.6914\n",
      "Epoch 32/100\n",
      "50000/50000 [==============================] - 12s 240us/step - loss: 0.7505 - acc: 0.7538 - val_loss: 1.2234 - val_acc: 0.6912\n",
      "Epoch 33/100\n",
      "50000/50000 [==============================] - 12s 240us/step - loss: 0.7506 - acc: 0.7536 - val_loss: 1.1190 - val_acc: 0.6494\n",
      "Epoch 34/100\n",
      "50000/50000 [==============================] - 12s 239us/step - loss: 0.7290 - acc: 0.7573 - val_loss: 1.4163 - val_acc: 0.6593\n",
      "Epoch 35/100\n",
      "50000/50000 [==============================] - 12s 239us/step - loss: 0.7335 - acc: 0.7546 - val_loss: 1.1599 - val_acc: 0.7007\n",
      "Epoch 36/100\n",
      "50000/50000 [==============================] - 12s 240us/step - loss: 0.7874 - acc: 0.7534 - val_loss: 1.2922 - val_acc: 0.6398\n",
      "Epoch 37/100\n",
      "50000/50000 [==============================] - 12s 240us/step - loss: 0.7593 - acc: 0.7518 - val_loss: 1.2555 - val_acc: 0.7033\n",
      "Epoch 38/100\n",
      "50000/50000 [==============================] - 12s 239us/step - loss: 0.7435 - acc: 0.7543 - val_loss: 1.1902 - val_acc: 0.6724\n",
      "Epoch 39/100\n",
      "50000/50000 [==============================] - 12s 240us/step - loss: 0.7459 - acc: 0.7553 - val_loss: 2.1663 - val_acc: 0.6919\n",
      "Epoch 40/100\n",
      "50000/50000 [==============================] - 12s 238us/step - loss: 0.7525 - acc: 0.7562 - val_loss: 1.3708 - val_acc: 0.7180\n",
      "Epoch 41/100\n",
      "50000/50000 [==============================] - 12s 239us/step - loss: 0.7531 - acc: 0.7559 - val_loss: 1.2055 - val_acc: 0.7128\n",
      "Epoch 42/100\n",
      "50000/50000 [==============================] - 12s 239us/step - loss: 0.8728 - acc: 0.7499 - val_loss: 1.8195 - val_acc: 0.6974\n",
      "Epoch 43/100\n",
      "50000/50000 [==============================] - 12s 239us/step - loss: 0.7717 - acc: 0.7527 - val_loss: 1.1618 - val_acc: 0.6894\n",
      "Epoch 44/100\n",
      "50000/50000 [==============================] - 12s 239us/step - loss: 0.7726 - acc: 0.7545 - val_loss: 1.5422 - val_acc: 0.6932\n",
      "Epoch 45/100\n",
      "50000/50000 [==============================] - 12s 238us/step - loss: 0.7724 - acc: 0.7518 - val_loss: 1.4839 - val_acc: 0.6896\n",
      "Epoch 46/100\n",
      "50000/50000 [==============================] - 12s 240us/step - loss: 0.7695 - acc: 0.7537 - val_loss: 1.3468 - val_acc: 0.7209\n",
      "Epoch 47/100\n",
      "50000/50000 [==============================] - 12s 239us/step - loss: 0.7762 - acc: 0.7504 - val_loss: 1.5654 - val_acc: 0.6811\n",
      "Epoch 48/100\n",
      "50000/50000 [==============================] - 12s 239us/step - loss: 0.7767 - acc: 0.7528 - val_loss: 1.6323 - val_acc: 0.7321\n",
      "Epoch 49/100\n",
      "50000/50000 [==============================] - 12s 240us/step - loss: 0.7899 - acc: 0.7519 - val_loss: 1.3439 - val_acc: 0.7380\n",
      "Epoch 50/100\n",
      "50000/50000 [==============================] - 12s 239us/step - loss: 0.7729 - acc: 0.7555 - val_loss: 1.5253 - val_acc: 0.6717\n",
      "Epoch 51/100\n",
      "50000/50000 [==============================] - 12s 241us/step - loss: 0.7784 - acc: 0.7563 - val_loss: 1.8435 - val_acc: 0.6952\n",
      "Epoch 52/100\n",
      "13312/50000 [======>.......................] - ETA: 8s - loss: 0.7537 - acc: 0.7613"
     ]
    }
   ],
   "source": [
    "#Run training with callback for Tensorboard\n",
    "model.fit(x_train, y_train,\n",
    "              batch_size=batch_size,\n",
    "              epochs=epochs, validation_data=(x_test, y_test),\n",
    "              shuffle=True,\n",
    "         callbacks = [tensorboard])"
   ]
  },
  {
   "cell_type": "code",
   "execution_count": null,
   "metadata": {},
   "outputs": [],
   "source": []
  },
  {
   "cell_type": "code",
   "execution_count": null,
   "metadata": {},
   "outputs": [],
   "source": []
  }
 ],
 "metadata": {
  "kernelspec": {
   "display_name": "Python 3",
   "language": "python",
   "name": "python3"
  },
  "language_info": {
   "codemirror_mode": {
    "name": "ipython",
    "version": 3
   },
   "file_extension": ".py",
   "mimetype": "text/x-python",
   "name": "python",
   "nbconvert_exporter": "python",
   "pygments_lexer": "ipython3",
   "version": "3.5.3"
  }
 },
 "nbformat": 4,
 "nbformat_minor": 1
}
