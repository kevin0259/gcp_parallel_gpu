{
 "cells": [
  {
   "cell_type": "code",
   "execution_count": 1,
   "metadata": {},
   "outputs": [
    {
     "name": "stdout",
     "output_type": "stream",
     "text": [
      "1.8.0\n"
     ]
    }
   ],
   "source": [
    "import tensorflow as tf\n",
    "import os\n",
    "import time\n",
    "import numpy as np\n",
    "from tensorflow.python.keras import layers\n",
    "print(tf.__version__)"
   ]
  },
  {
   "cell_type": "code",
   "execution_count": 2,
   "metadata": {},
   "outputs": [],
   "source": [
    "# Convolution Block\n",
    "\n",
    "def _conv(x,kernel,name,log=False):\n",
    "    with tf.variable_scope(name):\n",
    "        W = tf.get_variable(initializer=tf.truncated_normal(shape=kernel,stddev=0.01),name='W')\n",
    "        b = tf.get_variable(initializer=tf.constant(0.0,shape=[kernel[3]]),name='b')\n",
    "        conv = tf.nn.conv2d(x, W, strides=[1,1,1,1],padding='SAME')\n",
    "        activation = tf.nn.relu(tf.add(conv,b))\n",
    "        pool = tf.nn.max_pool(activation,ksize=[1,2,2,1],strides=[1,2,2,1],padding='SAME')\n",
    "        if log==True:\n",
    "            tf.summary.histogram(\"weights\",W)\n",
    "            tf.summary.histogram(\"biases\",b)\n",
    "            tf.summary.histogram(\"activations\",activation)\n",
    "        return pool\n",
    "\n",
    "# Dense Block\n",
    "\n",
    "def _dense(x,size_in,size_out,name,relu=False,log=False):\n",
    "    with tf.variable_scope(name):\n",
    "        flat = tf.reshape(x,[-1,size_in])\n",
    "        W = tf.get_variable(initializer=tf.truncated_normal([size_in,size_out],stddev=0.1),name='W')\n",
    "        b = tf.get_variable(initializer=tf.constant(0.0,shape=[size_out]),name='b')\n",
    "        activation = tf.add(tf.matmul(flat,W),b)\n",
    "        if relu==True:\n",
    "            activation = tf.nn.relu(activation)\n",
    "        if log==True:\n",
    "            tf.summary.histogram(\"weights\",W)\n",
    "            tf.summary.histogram(\"biases\",b)\n",
    "            tf.summary.histogram(\"activations\",activation)\n",
    "        return activation"
   ]
  },
  {
   "cell_type": "code",
   "execution_count": 3,
   "metadata": {},
   "outputs": [],
   "source": [
    "def tinyimg_fn(features, labels, mode, params):\n",
    "    \n",
    "    #### 1 INFERNCE MODEL\n",
    "    \n",
    "    input_layer = tf.reshape(features, [-1, 64, 64, 3])\n",
    "    conv1 = _conv(input_layer,kernel=[7,7,3,128],name='conv1',log=params['log'])\n",
    "    conv2 = _conv(conv1,kernel=[5,5,128,128],name='conv2',log=params['log'])\n",
    "    conv3 = _conv(conv2,kernel=[5,5,128,256],name='conv3',log=params['log'])\n",
    "    conv4 = _conv(conv3,kernel=[3,3,256,512],name='conv4',log=params['log'])\n",
    "    dense = _dense(conv4,size_in=4*4*512,size_out=params['dense_units'],\n",
    "                   name='Dense',relu=True,log=params['log'])\n",
    "    if mode==tf.estimator.ModeKeys.TRAIN:\n",
    "        dense = tf.nn.dropout(dense,params['drop_out'])\n",
    "    logits = _dense(dense,size_in=params['dense_units'],\n",
    "                    size_out=200,name='Output',relu=False,log=params['log'])\n",
    "    \n",
    "    #### 2 CALCULATIONS AND METRICS\n",
    "    \n",
    "    predictions = {\"classes\": tf.argmax(input=logits,axis=1),\n",
    "                   \"logits\": logits,\n",
    "                   \"probabilities\": tf.nn.softmax(logits,name='softmax')}\n",
    "    export_outputs = {'predictions': tf.estimator.export.PredictOutput(predictions)}\n",
    "    if (mode==tf.estimator.ModeKeys.TRAIN or mode==tf.estimator.ModeKeys.EVAL):\n",
    "        loss = tf.losses.sparse_softmax_cross_entropy(labels=labels,logits=logits)\n",
    "        #accuracy = tf.metrics.accuracy(\n",
    "        #    labels=labels, predictions=tf.argmax(logits,axis=1))\n",
    "        #metrics = {'accuracy':accuracy}\n",
    "        \n",
    "    #### 3 MODE = PREDICT\n",
    "    \n",
    "    if mode == tf.estimator.ModeKeys.PREDICT:\n",
    "        return tf.estimator.EstimatorSpec(\n",
    "            mode=mode, predictions=predictions, export_outputs=export_outputs)\n",
    "\n",
    "    #### 4 MODE = TRAIN\n",
    "\n",
    "    if mode == tf.estimator.ModeKeys.TRAIN:\n",
    "        learning_rate = tf.train.exponential_decay(\n",
    "            params['learning_rate'],tf.train.get_global_step(),\n",
    "            decay_steps=100000,decay_rate=0.96)\n",
    "        optimizer = tf.train.GradientDescentOptimizer(learning_rate=learning_rate)\n",
    "        if params['replicate']==True:\n",
    "            optimizer = tf.contrib.estimator.TowerOptimizer(optimizer)\n",
    "        train_op = optimizer.minimize(loss=loss,global_step=tf.train.get_global_step())\n",
    "        tf.summary.scalar('learning_rate', learning_rate)\n",
    "        #tf.summary.scalar('accuracy',accuracy[1])\n",
    "        return tf.estimator.EstimatorSpec(\n",
    "            mode=mode, loss=loss, train_op=train_op)\n",
    "    \n",
    "    #### 5 MODE = EVAL\n",
    "    \n",
    "    if mode == tf.estimator.ModeKeys.EVAL:\n",
    "        return tf.estimator.EstimatorSpec(\n",
    "            #mode=mode,loss=loss,eval_metric_ops=metrics)\n",
    "            mode=mode,loss=loss)"
   ]
  },
  {
   "cell_type": "code",
   "execution_count": 4,
   "metadata": {},
   "outputs": [],
   "source": [
    "def parse_tfrecord(example):\n",
    "    feature={'idx'     : tf.FixedLenFeature((), tf.int64),\n",
    "             'label'   : tf.FixedLenFeature((), tf.int64),\n",
    "             'image'   : tf.FixedLenFeature((), tf.string, default_value='')}\n",
    "    parsed = tf.parse_single_example(example, feature)\n",
    "    image = tf.decode_raw(parsed['image'],tf.float32)\n",
    "    image = tf.reshape(image,[64,64,3])\n",
    "    return image, parsed['label']"
   ]
  },
  {
   "cell_type": "code",
   "execution_count": 5,
   "metadata": {},
   "outputs": [],
   "source": [
    "def image_scaling(x):\n",
    "    return tf.image.per_image_standardization(x)"
   ]
  },
  {
   "cell_type": "code",
   "execution_count": 6,
   "metadata": {},
   "outputs": [],
   "source": [
    "def distort(x):\n",
    "    x = tf.image.resize_image_with_crop_or_pad(x, 80, 80)\n",
    "    x = tf.random_crop(x, [64, 64, 3])\n",
    "    x = tf.image.random_flip_left_right(x)\n",
    "    return x"
   ]
  },
  {
   "cell_type": "code",
   "execution_count": 7,
   "metadata": {},
   "outputs": [],
   "source": [
    "def dataset_input_fn(params):\n",
    "    dataset = tf.data.TFRecordDataset(\n",
    "        params['filenames'],num_parallel_reads=params['threads'])\n",
    "    dataset = dataset.map(parse_tfrecord, num_parallel_calls=params['threads'])\n",
    "    dataset = dataset.map(\n",
    "    lambda x,y: (image_scaling(x),y),num_parallel_calls=params['threads'])\n",
    "    if params['mode']==tf.estimator.ModeKeys.TRAIN:\n",
    "        dataset = dataset.map(lambda x,y: (distort(x),y),num_parallel_calls=params['threads'])\n",
    "        dataset = dataset.shuffle(buffer_size=params['shuffle_buff'])\n",
    "    dataset = dataset.repeat()\n",
    "    dataset = dataset.batch(params['batch'])\n",
    "    dataset = dataset.prefetch(2*params['batch'])\n",
    "\n",
    "    return dataset\n"
   ]
  },
  {
   "cell_type": "code",
   "execution_count": 8,
   "metadata": {},
   "outputs": [
    {
     "data": {
      "text/plain": [
       "'\\nconfig = tf.estimator.RunConfig(save_checkpoints_secs = 300,keep_checkpoint_max = 5)\\n'"
      ]
     },
     "execution_count": 8,
     "metadata": {},
     "output_type": "execute_result"
    }
   ],
   "source": [
    "model_params  = {'drop_out'      : 0.3,\n",
    "                 'dense_units'   : 1024,\n",
    "                 'learning_rate' : 1e-3,\n",
    "                 'log'           : True,\n",
    "                 'replicate'     : False\n",
    "                }\n",
    "\n",
    "distribution = tf.contrib.distribute.MirroredStrategy(num_gpus=4)\n",
    "config = tf.estimator.RunConfig(save_checkpoints_secs = 300,\n",
    "                                keep_checkpoint_max = 5,\n",
    "                                session_config=tf.ConfigProto(\n",
    "                                    allow_soft_placement=True, log_device_placement=True),\n",
    "                                train_distribute = distribution)\n",
    "'''\n",
    "config = tf.estimator.RunConfig(save_checkpoints_secs = 300,keep_checkpoint_max = 5)\n",
    "'''"
   ]
  },
  {
   "cell_type": "code",
   "execution_count": 9,
   "metadata": {},
   "outputs": [
    {
     "name": "stdout",
     "output_type": "stream",
     "text": [
      "./cnn_model/cnn_model_dense1024_drop0.3_lr0.001_20180527101856\n",
      "INFO:tensorflow:Using config: {'_tf_random_seed': None, '_task_id': 0, '_session_config': allow_soft_placement: true\n",
      "log_device_placement: true\n",
      ", '_num_ps_replicas': 0, '_service': None, '_model_dir': './cnn_model/cnn_model_dense1024_drop0.3_lr0.001_20180527101856', '_keep_checkpoint_every_n_hours': 10000, '_train_distribute': <tensorflow.contrib.distribute.python.mirrored_strategy.MirroredStrategy object at 0x7f8125614390>, '_task_type': 'worker', '_evaluation_master': '', '_save_checkpoints_steps': None, '_global_id_in_cluster': 0, '_master': '', '_is_chief': True, '_keep_checkpoint_max': 5, '_cluster_spec': <tensorflow.python.training.server_lib.ClusterSpec object at 0x7f8125614358>, '_save_checkpoints_secs': 300, '_save_summary_steps': 100, '_log_step_count_steps': 100, '_num_worker_replicas': 1}\n"
     ]
    }
   ],
   "source": [
    "if model_params['replicate']==True:\n",
    "    model_fn = tf.contrib.estimator.replicate_model_fn(\n",
    "        tinyimg_fn, loss_reduction=tf.losses.Reduction.MEAN)\n",
    "else:\n",
    "    model_fn = tinyimg_fn\n",
    "\n",
    "name = 'cnn_model/cnn_model_'\n",
    "if model_params['replicate']==True:\n",
    "    name = 'cnn_model_dist/cnn_model_'\n",
    "name = name + 'dense' + str(model_params['dense_units']) + '_'\n",
    "name = name + 'drop' + str(model_params['drop_out']) + '_'\n",
    "name = name + 'lr' + str(model_params['learning_rate']) + '_'\n",
    "name = name + time.strftime(\"%Y%m%d%H%M%S\")\n",
    "cnn_dir  = os.path.join('./',name)\n",
    "\n",
    "print(cnn_dir)\n",
    "\n",
    "cnn_classifier = tf.estimator.Estimator(\n",
    "    model_fn=model_fn,model_dir=cnn_dir,params=model_params,config=config)"
   ]
  },
  {
   "cell_type": "code",
   "execution_count": 10,
   "metadata": {},
   "outputs": [
    {
     "name": "stdout",
     "output_type": "stream",
     "text": [
      "INFO:tensorflow:Using config: {'_tf_random_seed': None, '_task_id': 0, '_session_config': allow_soft_placement: true\n",
      "log_device_placement: true\n",
      ", '_num_ps_replicas': 0, '_service': None, '_model_dir': './cnn_model/cnn_model_dense1024_drop0.3_lr0.001_20180527101856', '_keep_checkpoint_every_n_hours': 10000, '_train_distribute': <tensorflow.contrib.distribute.python.mirrored_strategy.MirroredStrategy object at 0x7f812560b240>, '_task_type': 'worker', '_evaluation_master': '', '_save_checkpoints_steps': None, '_global_id_in_cluster': 0, '_master': '', '_is_chief': True, '_keep_checkpoint_max': 5, '_cluster_spec': <tensorflow.python.training.server_lib.ClusterSpec object at 0x7f812560b278>, '_save_checkpoints_secs': 300, '_save_summary_steps': 100, '_log_step_count_steps': 100, '_num_worker_replicas': 1}\n"
     ]
    }
   ],
   "source": [
    "tinyimg_estimator = tf.estimator.Estimator(\n",
    "    model_fn=model_fn,model_dir=cnn_dir,params=model_params,config=config)"
   ]
  },
  {
   "cell_type": "code",
   "execution_count": 11,
   "metadata": {},
   "outputs": [],
   "source": [
    "#train_files = !gsutil ls gs://tsaikevin-data/tiny_imagenet/tiny_imagenet_00*.tfrecords\n",
    "#val_files   = !gsutil ls gs://tsaikevin-data/tiny_imagenet/tiny_imagenet_01*.tfrecords\n",
    "train_files = !ls tiny_imagenet_00*.tfrecords\n",
    "val_files   = !ls tiny_imagenet_01*.tfrecords\n",
    "\n",
    "train_params = {'filenames'    : train_files,\n",
    "                'mode'         : tf.estimator.ModeKeys.TRAIN,\n",
    "                'threads'      : 16,\n",
    "                'shuffle_buff' : 100000,\n",
    "                'batch'        : 100\n",
    "               }\n",
    "\n",
    "eval_params  = {'filenames'    : val_files,\n",
    "                'mode'         : tf.estimator.ModeKeys.EVAL,\n",
    "                'threads'      : 8,\n",
    "                'batch'        : 200\n",
    "               }\n",
    "\n",
    "train_spec = tf.estimator.TrainSpec(input_fn=lambda: dataset_input_fn(train_params),max_steps=2000)\n",
    "eval_spec  = tf.estimator.EvalSpec(input_fn=lambda: dataset_input_fn(eval_params),steps=10,throttle_secs=600)\n",
    "\n"
   ]
  },
  {
   "cell_type": "code",
   "execution_count": 12,
   "metadata": {},
   "outputs": [
    {
     "name": "stdout",
     "output_type": "stream",
     "text": [
      "CommandException: The rm command (without -I) expects at least one URL.\n",
      "INFO:tensorflow:Running training and evaluation locally (non-distributed).\n",
      "INFO:tensorflow:Start train and evaluate loop. The evaluate will happen after 600 secs (eval_spec.throttle_secs) or training is finished.\n",
      "INFO:tensorflow:Device is available but not used by distribute strategy: /device:CPU:0\n",
      "INFO:tensorflow:Configured nccl all-reduce.\n",
      "INFO:tensorflow:Calling model_fn.\n",
      "INFO:tensorflow:Calling model_fn.\n",
      "INFO:tensorflow:Calling model_fn.\n",
      "INFO:tensorflow:Calling model_fn.\n",
      "INFO:tensorflow:batch_all_reduce invoked for batches size = 12 with algorithm = nccl and num_packs = 1\n",
      "INFO:tensorflow:Done calling model_fn.\n",
      "INFO:tensorflow:Done calling model_fn.\n",
      "INFO:tensorflow:Done calling model_fn.\n",
      "INFO:tensorflow:Done calling model_fn.\n",
      "INFO:tensorflow:Create CheckpointSaverHook.\n",
      "INFO:tensorflow:Graph was finalized.\n",
      "INFO:tensorflow:Running local_init_op.\n",
      "INFO:tensorflow:Done running local_init_op.\n",
      "INFO:tensorflow:Saving checkpoints for 1 into ./cnn_model/cnn_model_dense1024_drop0.3_lr0.001_20180527101856/model.ckpt.\n",
      "INFO:tensorflow:step = 0, loss = 5.298318\n",
      "INFO:tensorflow:global_step/sec: 12.9892\n",
      "INFO:tensorflow:step = 100, loss = 5.2983193 (7.700 sec)\n",
      "INFO:tensorflow:global_step/sec: 12.8793\n",
      "INFO:tensorflow:step = 200, loss = 5.298318 (7.765 sec)\n",
      "INFO:tensorflow:global_step/sec: 6.63409\n",
      "INFO:tensorflow:step = 300, loss = 5.2983193 (15.073 sec)\n",
      "INFO:tensorflow:global_step/sec: 13.8225\n",
      "INFO:tensorflow:step = 400, loss = 5.2983193 (7.236 sec)\n",
      "INFO:tensorflow:global_step/sec: 6.5024\n",
      "INFO:tensorflow:step = 500, loss = 5.298316 (15.377 sec)\n",
      "INFO:tensorflow:global_step/sec: 13.8865\n",
      "INFO:tensorflow:step = 600, loss = 5.29832 (7.202 sec)\n",
      "INFO:tensorflow:global_step/sec: 6.27968\n",
      "INFO:tensorflow:step = 700, loss = 5.298311 (15.924 sec)\n",
      "INFO:tensorflow:global_step/sec: 13.9531\n",
      "INFO:tensorflow:step = 800, loss = 5.298318 (7.167 sec)\n",
      "INFO:tensorflow:global_step/sec: 6.19907\n",
      "INFO:tensorflow:step = 900, loss = 5.298314 (16.131 sec)\n",
      "INFO:tensorflow:global_step/sec: 13.912\n",
      "INFO:tensorflow:step = 1000, loss = 5.298319 (7.188 sec)\n",
      "INFO:tensorflow:global_step/sec: 12.7537\n",
      "INFO:tensorflow:step = 1100, loss = 5.298315 (7.842 sec)\n",
      "INFO:tensorflow:global_step/sec: 6.74054\n",
      "INFO:tensorflow:step = 1200, loss = 5.2983236 (14.834 sec)\n",
      "INFO:tensorflow:global_step/sec: 13.7356\n",
      "INFO:tensorflow:step = 1300, loss = 5.298315 (7.280 sec)\n",
      "INFO:tensorflow:global_step/sec: 6.51016\n",
      "INFO:tensorflow:step = 1400, loss = 5.29832 (15.361 sec)\n",
      "INFO:tensorflow:global_step/sec: 13.9261\n",
      "INFO:tensorflow:step = 1500, loss = 5.298314 (7.181 sec)\n",
      "INFO:tensorflow:global_step/sec: 6.21496\n",
      "INFO:tensorflow:step = 1600, loss = 5.298309 (16.089 sec)\n",
      "INFO:tensorflow:global_step/sec: 13.9465\n",
      "INFO:tensorflow:step = 1700, loss = 5.298315 (7.170 sec)\n",
      "INFO:tensorflow:global_step/sec: 6.08563\n",
      "INFO:tensorflow:step = 1800, loss = 5.2983007 (16.433 sec)\n",
      "INFO:tensorflow:global_step/sec: 13.9183\n",
      "INFO:tensorflow:step = 1900, loss = 5.298331 (7.184 sec)\n",
      "INFO:tensorflow:Saving checkpoints for 2000 into ./cnn_model/cnn_model_dense1024_drop0.3_lr0.001_20180527101856/model.ckpt.\n",
      "INFO:tensorflow:Loss for final step: 5.298312.\n",
      "INFO:tensorflow:Calling model_fn.\n",
      "INFO:tensorflow:Done calling model_fn.\n",
      "INFO:tensorflow:Starting evaluation at 2018-05-27-10:23:20\n",
      "INFO:tensorflow:Graph was finalized.\n",
      "INFO:tensorflow:Restoring parameters from ./cnn_model/cnn_model_dense1024_drop0.3_lr0.001_20180527101856/model.ckpt-2000\n",
      "INFO:tensorflow:Running local_init_op.\n",
      "INFO:tensorflow:Done running local_init_op.\n",
      "INFO:tensorflow:Evaluation [1/10]\n",
      "INFO:tensorflow:Evaluation [2/10]\n",
      "INFO:tensorflow:Evaluation [3/10]\n",
      "INFO:tensorflow:Evaluation [4/10]\n",
      "INFO:tensorflow:Evaluation [5/10]\n",
      "INFO:tensorflow:Evaluation [6/10]\n",
      "INFO:tensorflow:Evaluation [7/10]\n",
      "INFO:tensorflow:Evaluation [8/10]\n",
      "INFO:tensorflow:Evaluation [9/10]\n",
      "INFO:tensorflow:Evaluation [10/10]\n",
      "INFO:tensorflow:Finished evaluation at 2018-05-27-10:23:21\n",
      "INFO:tensorflow:Saving dict for global step 2000: global_step = 2000, loss = 5.298328\n"
     ]
    }
   ],
   "source": [
    "!gsutil rm -rf $model_dir\n",
    "tf.estimator.train_and_evaluate(tinyimg_estimator, train_spec, eval_spec)"
   ]
  },
  {
   "cell_type": "code",
   "execution_count": null,
   "metadata": {},
   "outputs": [],
   "source": []
  }
 ],
 "metadata": {
  "kernelspec": {
   "display_name": "Python 3",
   "language": "python",
   "name": "python3"
  },
  "language_info": {
   "codemirror_mode": {
    "name": "ipython",
    "version": 3
   },
   "file_extension": ".py",
   "mimetype": "text/x-python",
   "name": "python",
   "nbconvert_exporter": "python",
   "pygments_lexer": "ipython3",
   "version": "3.5.2"
  }
 },
 "nbformat": 4,
 "nbformat_minor": 2
}
