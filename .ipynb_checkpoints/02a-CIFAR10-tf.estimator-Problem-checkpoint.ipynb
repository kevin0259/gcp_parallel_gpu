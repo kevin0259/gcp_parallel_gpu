{
 "cells": [
  {
   "cell_type": "markdown",
   "metadata": {},
   "source": [
    "## Pre-work Lab for Google Cloud ML Practitioner Training (Aug 6-10, 2018)\n",
    "\n",
    "In this lab, you will create a custom CNN model for the CIFAR10 data set.\n",
    "\n",
    "Helpful references:\n",
    "- https://www.youtube.com/watch?reload=9&v=eBbEDRsCmv4\n",
    "- https://www.tensorflow.org/guide/custom_estimators"
   ]
  },
  {
   "cell_type": "code",
   "execution_count": null,
   "metadata": {},
   "outputs": [],
   "source": [
    "import tensorflow as tf\n",
    "import time\n",
    "import os\n",
    "import numpy as np"
   ]
  },
  {
   "cell_type": "markdown",
   "metadata": {},
   "source": [
    "### DO: Create two functions that will be reused in your custom model function.\n",
    "\n",
    "_conv:\n",
    "- Convolution block to include conv, relu, and max pool.\n",
    "- Use tf.variable_scope.\n",
    "- Input should include feature, kernel (convolution filter), variable scope name\n",
    "\n",
    "_dense:\n",
    "- Dense block with relu.  Since last layer is logits, make relu switchable on/off.\n",
    "- Use tf.variable_scope.\n",
    "- Since last layer is logits, make relu switchable on/off.\n",
    "- Input should include feature, in/out sizes, variable scope name, relu(true/false)\n"
   ]
  },
  {
   "cell_type": "code",
   "execution_count": null,
   "metadata": {},
   "outputs": [],
   "source": [
    "# Convolution Block\n",
    "\n",
    "def _conv(x,kernel,name):\n",
    "    with tf.variable_scope(name):\n",
    "        #\n",
    "        # code here\n",
    "        #\n",
    "        return # code here\n",
    "\n",
    "# Dense Block\n",
    "\n",
    "def _dense(x,size_in,size_out,name,relu=False):\n",
    "    with tf.variable_scope(name):\n",
    "        #\n",
    "        # code here\n",
    "        #\n",
    "        if relu==True:\n",
    "            #\n",
    "            # code here\n",
    "            #\n",
    "        return "
   ]
  },
  {
   "cell_type": "markdown",
   "metadata": {},
   "source": [
    "### DO: Create custom model function.\n",
    "\n",
    "5 sections of the model function\n",
    "\n",
    "#### 1. INFERENCE MODEL\n",
    "\n",
    "Recommended architecture:\n",
    "- conv1: kernel = 5x5x128\n",
    "- conv2: kernel = 5x5x128\n",
    "- conv3: kernel = 3x3x256\n",
    "- conv4: kernel = 3x3x512\n",
    "- dense: hidden_units (tunable hyperparam)\n",
    "\n",
    "Use:\n",
    "- tf.nn - this will allow for metric collection later.\n",
    "\n",
    "#### 2. CALCULATIONS AND METRICS\n",
    "\n",
    "Implement:\n",
    "- Prediction dictionary {classes, logits, probabilities}.\n",
    "- Loss function: Cross Entropy.\n",
    "- Accuracy for both training and eval using tf.metrics.\n",
    "\n",
    "#### 3. MODE = PREDICT\n",
    "\n",
    "Implement:\n",
    "- EstimatorSpec for PREDICT.\n",
    "\n",
    "#### 4. MODE = TRAIN\n",
    "\n",
    "Implement:\n",
    "- Optimizer = Stochastic Gradient Descent.\n",
    "- EstimatorSpec for TRAIN.\n",
    "- Optional: Exponential Decay Learning Rate.\n",
    "\n",
    "#### 5. MODE = EVAL\n",
    "\n",
    "Implement:\n",
    "- EstimatorSpec for EVAL.\n"
   ]
  },
  {
   "cell_type": "code",
   "execution_count": null,
   "metadata": {},
   "outputs": [],
   "source": [
    "def cnnmodel_fn(features, labels, mode, params):\n",
    "    \n",
    "    #### 1 INFERNCE MODEL\n",
    "    \n",
    "        #\n",
    "        # code here\n",
    "        #\n",
    "    logits = # code here\n",
    " \n",
    "    #### 2 CALCULATIONS AND METRICS\n",
    "    \n",
    "    predictions = {\n",
    "        # code here\n",
    "    }\n",
    "    export_outputs = {'predictions': # code here}\n",
    "    if (mode==tf.estimator.ModeKeys.TRAIN or mode==tf.estimator.ModeKeys.EVAL):\n",
    "        loss = # code here\n",
    "        accuracy = tf.metrics.accuracy(# code here)\n",
    "        metrics = {'accuracy':accuracy}\n",
    "        \n",
    "    #### 3 MODE = PREDICT\n",
    "    \n",
    "    if mode == tf.estimator.ModeKeys.PREDICT:\n",
    "        return tf.estimator.EstimatorSpec(# code here)\n",
    "\n",
    "    #### 4 MODE = TRAIN\n",
    "\n",
    "    if mode == tf.estimator.ModeKeys.TRAIN:\n",
    "        learning_rate = # code here\n",
    "        optimizer = # code here\n",
    "        train_op = # code here\n",
    "        return tf.estimator.EstimatorSpec(# code here)\n",
    "    \n",
    "    #### 5 MODE = EVAL\n",
    "    \n",
    "    if mode == tf.estimator.ModeKeys.EVAL:\n",
    "        return tf.estimator.EstimatorSpec(# code here)"
   ]
  },
  {
   "cell_type": "markdown",
   "metadata": {},
   "source": [
    "### DO: Create function to deserialize tfrecords files.\n",
    "\n",
    "Implement parse_tfrecord function:\n",
    "- Feature input: {idx: tf.int64, label: tf.int64, image: tf.string}\n",
    "- Return: image, label\n",
    "    "
   ]
  },
  {
   "cell_type": "code",
   "execution_count": null,
   "metadata": {},
   "outputs": [],
   "source": [
    "def parse_tfrecord(example):\n",
    "    #\n",
    "    # code here\n",
    "    #\n",
    "    return "
   ]
  },
  {
   "cell_type": "markdown",
   "metadata": {},
   "source": [
    "### DO: Create two helper functions:\n",
    "\n",
    "Implement image_scaling function:\n",
    "- Image scaling.\n",
    "- Applied always\n",
    "\n",
    "Implement distort function:\n",
    "- Applied only in training.\n",
    "- Resize, crop, flip randomly."
   ]
  },
  {
   "cell_type": "code",
   "execution_count": null,
   "metadata": {},
   "outputs": [],
   "source": [
    "def image_scaling(x):\n",
    "    return # code here\n",
    "\n",
    "def distort(x):\n",
    "    #\n",
    "    # code here\n",
    "    #\n",
    "    return"
   ]
  },
  {
   "cell_type": "markdown",
   "metadata": {},
   "source": [
    "### DO: Create input function using tf.data\n",
    "\n",
    "Create dataset_input_fn that implements:\n",
    "- Use TFRecordDataset to read tfrecord files.\n",
    "- Apply parse function you created above.\n",
    "- Apply image scaling function you created above.\n",
    "- Apply distort function on for training.\n",
    "- Suffle only for training.\n",
    "- Use prefetch\n",
    "- Optional: parallelize threads wherever possible."
   ]
  },
  {
   "cell_type": "code",
   "execution_count": null,
   "metadata": {},
   "outputs": [],
   "source": [
    "def dataset_input_fn(params):\n",
    "    #\n",
    "    # code here\n",
    "    #\n",
    "    return dataset"
   ]
  },
  {
   "cell_type": "markdown",
   "metadata": {},
   "source": [
    "Create dictionary for parameters"
   ]
  },
  {
   "cell_type": "code",
   "execution_count": null,
   "metadata": {},
   "outputs": [],
   "source": [
    "model_params  = {'drop_out'      : 0.2,\n",
    "                 'dense_units'   : 1024,\n",
    "                 'learning_rate' : 1e-3\n",
    "                }"
   ]
  },
  {
   "cell_type": "markdown",
   "metadata": {},
   "source": [
    "### DO: Create RunConfig\n",
    "\n",
    "Implement RunConfig:\n",
    "- Save checkpoints ever 300 seconds.\n",
    "- Keep up to 5 checkpoint history."
   ]
  },
  {
   "cell_type": "code",
   "execution_count": null,
   "metadata": {},
   "outputs": [],
   "source": [
    "config = # code here"
   ]
  },
  {
   "cell_type": "code",
   "execution_count": null,
   "metadata": {},
   "outputs": [],
   "source": [
    "#Set model_fn\n",
    "model_fn = cnnmodel_fn"
   ]
  },
  {
   "cell_type": "markdown",
   "metadata": {},
   "source": [
    "Set model directory.  This is to make sorting out runs more easily."
   ]
  },
  {
   "cell_type": "code",
   "execution_count": null,
   "metadata": {},
   "outputs": [],
   "source": [
    "name = 'cnn_model/cnn_model_'\n",
    "name = name + 'dense' + str(model_params['dense_units']) + '_'\n",
    "name = name + 'drop' + str(model_params['drop_out']) + '_'\n",
    "name = name + 'lr' + str(model_params['learning_rate']) + '_'\n",
    "name = name + time.strftime(\"%Y%m%d%H%M%S\")\n",
    "model_dir  = os.path.join('./',name)\n",
    "\n",
    "print(model_dir)"
   ]
  },
  {
   "cell_type": "markdown",
   "metadata": {},
   "source": [
    "### DO: Create tf.estimator"
   ]
  },
  {
   "cell_type": "code",
   "execution_count": null,
   "metadata": {},
   "outputs": [],
   "source": [
    "estimator = # code here"
   ]
  },
  {
   "cell_type": "markdown",
   "metadata": {},
   "source": [
    "Set parameters for input functions."
   ]
  },
  {
   "cell_type": "code",
   "execution_count": null,
   "metadata": {},
   "outputs": [],
   "source": [
    "train_files = !ls ./data/cifar10_data_00*.tfrecords\n",
    "val_files   = !ls ./data/cifar10_data_01*.tfrecords\n",
    "\n",
    "train_params = {'filenames'    : train_files,\n",
    "                'mode'         : tf.estimator.ModeKeys.TRAIN,\n",
    "                'threads'      : 16,\n",
    "                'shuffle_buff' : 100000,\n",
    "                'batch'        : 100\n",
    "               }\n",
    "\n",
    "eval_params  = {'filenames'    : val_files,\n",
    "                'mode'         : tf.estimator.ModeKeys.EVAL,\n",
    "                'threads'      : 8,\n",
    "                'batch'        : 200\n",
    "               }"
   ]
  },
  {
   "cell_type": "markdown",
   "metadata": {},
   "source": [
    "### DO: TrainSpec and EvalSpec\n",
    "\n",
    "TranSpec:\n",
    "- Use train_params.\n",
    "- End after 20,000 steps.\n",
    "\n",
    "EvalSpec:\n",
    "- Use eval_params.\n",
    "- 10 steps.\n",
    "- Eval executes every 60 seconds or training time (production will be much longer)."
   ]
  },
  {
   "cell_type": "code",
   "execution_count": null,
   "metadata": {},
   "outputs": [],
   "source": [
    "train_spec = # code here\n",
    "eval_spec  = # code here"
   ]
  },
  {
   "cell_type": "markdown",
   "metadata": {},
   "source": [
    "### DO: Run training and eval"
   ]
  },
  {
   "cell_type": "code",
   "execution_count": null,
   "metadata": {},
   "outputs": [],
   "source": [
    "tf.estimator.train_and_evaluate(estimator, train_spec, eval_spec)"
   ]
  },
  {
   "cell_type": "code",
   "execution_count": null,
   "metadata": {},
   "outputs": [],
   "source": []
  }
 ],
 "metadata": {
  "kernelspec": {
   "display_name": "Python 3",
   "language": "python",
   "name": "python3"
  },
  "language_info": {
   "codemirror_mode": {
    "name": "ipython",
    "version": 3
   },
   "file_extension": ".py",
   "mimetype": "text/x-python",
   "name": "python",
   "nbconvert_exporter": "python",
   "pygments_lexer": "ipython3",
   "version": "3.5.2"
  }
 },
 "nbformat": 4,
 "nbformat_minor": 2
}
