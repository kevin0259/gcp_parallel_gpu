{
 "cells": [
  {
   "cell_type": "markdown",
   "metadata": {},
   "source": [
    "## Distributed GPU Session Lab: MirroredStrategy\n",
    "\n",
    "In this lab, you will take the solution you created in Lab 03b and implement MirroredStrategy.\n",
    "\n",
    "Helpful references:\n",
    "- https://www.tensorflow.org/versions/master/api_docs/python/tf/contrib/distribute/MirroredStrategy\n",
    "- https://www.youtube.com/watch?v=-h0cWBiQ8s8"
   ]
  },
  {
   "cell_type": "code",
   "execution_count": 1,
   "metadata": {},
   "outputs": [],
   "source": [
    "import tensorflow as tf\n",
    "import time\n",
    "import os\n",
    "import numpy as np"
   ]
  },
  {
   "cell_type": "code",
   "execution_count": 2,
   "metadata": {},
   "outputs": [],
   "source": [
    "# Convolution Block\n",
    "\n",
    "def _conv(x,kernel,name,log=False):\n",
    "    with tf.variable_scope(name):\n",
    "        W = tf.get_variable(initializer=tf.truncated_normal(shape=kernel,stddev=0.01),name='W')\n",
    "        b = tf.get_variable(initializer=tf.constant(0.0,shape=[kernel[3]]),name='b')\n",
    "        conv = tf.nn.conv2d(x, W, strides=[1,1,1,1],padding='SAME')\n",
    "        activation = tf.nn.relu(tf.add(conv,b))\n",
    "        pool = tf.nn.max_pool(activation,ksize=[1,2,2,1],strides=[1,2,2,1],padding='SAME')\n",
    "        if log==True:\n",
    "            tf.summary.histogram(\"weights\",W)\n",
    "            tf.summary.histogram(\"biases\",b)\n",
    "            tf.summary.histogram(\"activations\",activation)\n",
    "        return pool\n",
    "\n",
    "# Dense Block\n",
    "\n",
    "def _dense(x,size_in,size_out,name,relu=False,log=False):\n",
    "    with tf.variable_scope(name):\n",
    "        flat = tf.reshape(x,[-1,size_in])\n",
    "        W = tf.get_variable(initializer=tf.truncated_normal([size_in,size_out],stddev=0.1),name='W')\n",
    "        b = tf.get_variable(initializer=tf.constant(0.0,shape=[size_out]),name='b')\n",
    "        activation = tf.add(tf.matmul(flat,W),b)\n",
    "        if relu==True:\n",
    "            activation = tf.nn.relu(activation)\n",
    "        if log==True:\n",
    "            tf.summary.histogram(\"weights\",W)\n",
    "            tf.summary.histogram(\"biases\",b)\n",
    "            tf.summary.histogram(\"activations\",activation)\n",
    "        return activation"
   ]
  },
  {
   "cell_type": "markdown",
   "metadata": {},
   "source": [
    "### DO: Fix Metrics and Summaries\n",
    "\n",
    "MirroredStrategy currently does not support metrics and summaries in the distributed training loop.  Make the appropriate changes to the training loop."
   ]
  },
  {
   "cell_type": "code",
   "execution_count": 3,
   "metadata": {},
   "outputs": [],
   "source": [
    "def cnnmodel_fn(features, labels, mode, params):\n",
    "    \n",
    "    #### 1 INFERNCE MODEL\n",
    "    \n",
    "    input_layer = tf.reshape(features, [-1, 32, 32, 3])\n",
    "    conv1 = _conv(input_layer,kernel=[5,5,3,128],name='conv1',log=params['log'])\n",
    "    conv2 = _conv(conv1,kernel=[5,5,128,128],name='conv2',log=params['log'])\n",
    "    conv3 = _conv(conv2,kernel=[3,3,128,256],name='conv3',log=params['log'])\n",
    "    conv4 = _conv(conv3,kernel=[3,3,256,512],name='conv4',log=params['log'])\n",
    "    dense = _dense(conv4,size_in=2*2*512,size_out=params['dense_units'],\n",
    "                   name='Dense',relu=True,log=params['log'])\n",
    "    if mode==tf.estimator.ModeKeys.TRAIN:\n",
    "        dense = tf.nn.dropout(dense,params['drop_out'])\n",
    "    logits = _dense(dense,size_in=params['dense_units'],\n",
    "                    size_out=10,name='Output',relu=False,log=params['log'])\n",
    "        \n",
    "    #### 2 CALCULATIONS AND METRICS\n",
    "    \n",
    "    predictions = {\"classes\": tf.argmax(input=logits,axis=1),\n",
    "                   \"logits\": logits,\n",
    "                   \"probabilities\": tf.nn.softmax(logits,name='softmax')}\n",
    "    export_outputs = {'predictions': tf.estimator.export.PredictOutput(predictions)}\n",
    "    if (mode==tf.estimator.ModeKeys.TRAIN or mode==tf.estimator.ModeKeys.EVAL):\n",
    "        loss = tf.losses.sparse_softmax_cross_entropy(labels=labels,logits=logits)\n",
    "        #accuracy = tf.metrics.accuracy(\n",
    "        #    labels=labels, predictions=tf.argmax(logits,axis=1))\n",
    "        #metrics = {'accuracy':accuracy}\n",
    "        \n",
    "    #### 3 MODE = PREDICT\n",
    "    \n",
    "    if mode == tf.estimator.ModeKeys.PREDICT:\n",
    "        return tf.estimator.EstimatorSpec(\n",
    "            mode=mode, predictions=predictions, export_outputs=export_outputs)\n",
    "\n",
    "    #### 4 MODE = TRAIN\n",
    "\n",
    "    if mode == tf.estimator.ModeKeys.TRAIN:\n",
    "        learning_rate = tf.train.exponential_decay(\n",
    "            params['learning_rate'],tf.train.get_global_step(),\n",
    "            decay_steps=100000,decay_rate=0.96)\n",
    "        optimizer = tf.train.GradientDescentOptimizer(learning_rate=learning_rate)\n",
    "        train_op = optimizer.minimize(loss=loss,global_step=tf.train.get_global_step())\n",
    "        tf.summary.scalar('learning_rate', learning_rate)\n",
    "        #tf.summary.scalar('accuracy',accuracy[1])\n",
    "        return tf.estimator.EstimatorSpec(\n",
    "            mode=mode, loss=loss, train_op=train_op)\n",
    "    \n",
    "    #### 5 MODE = EVAL\n",
    "    \n",
    "    if mode == tf.estimator.ModeKeys.EVAL:\n",
    "        accuracy = tf.metrics.accuracy(\n",
    "            labels=labels, predictions=tf.argmax(logits,axis=1))\n",
    "        metrics = {'accuracy':accuracy}\n",
    "        return tf.estimator.EstimatorSpec(\n",
    "            mode=mode,loss=loss,eval_metric_ops=metrics)\n",
    "            #mode=mode,loss=loss) #,eval_metric_ops=metrics)"
   ]
  },
  {
   "cell_type": "code",
   "execution_count": 4,
   "metadata": {},
   "outputs": [],
   "source": [
    "def parse_tfrecord(example):\n",
    "    feature={'idx'     : tf.FixedLenFeature((), tf.int64),\n",
    "             'label'   : tf.FixedLenFeature((), tf.int64),\n",
    "             'image'   : tf.FixedLenFeature((), tf.string, default_value=\"\")}\n",
    "    parsed = tf.parse_single_example(example, feature)\n",
    "    image = tf.decode_raw(parsed['image'],tf.float64)\n",
    "    image = tf.cast(image,tf.float32)\n",
    "    image = tf.reshape(image,[32,32,3])\n",
    "    return image, parsed['label']\n"
   ]
  },
  {
   "cell_type": "code",
   "execution_count": 5,
   "metadata": {},
   "outputs": [],
   "source": [
    "def image_scaling(x):\n",
    "    return tf.image.per_image_standardization(x)\n",
    "\n",
    "def distort(x):\n",
    "    x = tf.image.resize_image_with_crop_or_pad(x, 40, 40)\n",
    "    x = tf.random_crop(x, [32, 32, 3])\n",
    "    x = tf.image.random_flip_left_right(x)\n",
    "    return x"
   ]
  },
  {
   "cell_type": "code",
   "execution_count": 16,
   "metadata": {},
   "outputs": [],
   "source": [
    "def dataset_input_fn(params):\n",
    "    dataset = tf.data.TFRecordDataset(\n",
    "        params['filenames'],num_parallel_reads=params['threads'])\n",
    "    dataset = dataset.map(parse_tfrecord, num_parallel_calls=params['threads'])\n",
    "    dataset = dataset.map(lambda x,y: (image_scaling(x),y),num_parallel_calls=params['threads'])\n",
    "    if params['mode']==tf.estimator.ModeKeys.TRAIN:\n",
    "        dataset = dataset.map(lambda x,y: (distort(x),y),num_parallel_calls=params['threads'])\n",
    "        dataset = dataset.shuffle(buffer_size=params['shuffle_buff'])\n",
    "    dataset = dataset.repeat()\n",
    "    dataset = dataset.batch(params['batch'])\n",
    "    dataset = dataset.prefetch(8*params['batch'])\n",
    "    return dataset"
   ]
  },
  {
   "cell_type": "code",
   "execution_count": 17,
   "metadata": {},
   "outputs": [],
   "source": [
    "model_params  = {'drop_out'      : 0.2,\n",
    "                 'dense_units'   : 1024,\n",
    "                 'learning_rate' : 1e-3,\n",
    "                 'log'           : True\n",
    "                }"
   ]
  },
  {
   "cell_type": "markdown",
   "metadata": {},
   "source": [
    "### DO: Set RunConfig to use MirroredStrategy"
   ]
  },
  {
   "cell_type": "code",
   "execution_count": 24,
   "metadata": {},
   "outputs": [],
   "source": [
    "distribution = tf.contrib.distribute.MirroredStrategy(num_gpus=4)\n",
    "config = tf.estimator.RunConfig(save_checkpoints_secs = 300,\n",
    "                                keep_checkpoint_max = 5,\n",
    "                                session_config=tf.ConfigProto(\n",
    "                                    allow_soft_placement=True, log_device_placement=True),\n",
    "                                train_distribute = distribution)"
   ]
  },
  {
   "cell_type": "code",
   "execution_count": 25,
   "metadata": {},
   "outputs": [],
   "source": [
    "model_fn = cnnmodel_fn"
   ]
  },
  {
   "cell_type": "code",
   "execution_count": 26,
   "metadata": {},
   "outputs": [
    {
     "name": "stdout",
     "output_type": "stream",
     "text": [
      "./cnn_model/cnn_model_dense1024_drop0.2_lr0.001_20180716065615\n"
     ]
    }
   ],
   "source": [
    "name = 'cnn_model/cnn_model_'\n",
    "name = name + 'dense' + str(model_params['dense_units']) + '_'\n",
    "name = name + 'drop' + str(model_params['drop_out']) + '_'\n",
    "name = name + 'lr' + str(model_params['learning_rate']) + '_'\n",
    "name = name + time.strftime(\"%Y%m%d%H%M%S\")\n",
    "model_dir  = os.path.join('./',name)\n",
    "\n",
    "print(model_dir)"
   ]
  },
  {
   "cell_type": "code",
   "execution_count": 27,
   "metadata": {},
   "outputs": [
    {
     "name": "stdout",
     "output_type": "stream",
     "text": [
      "INFO:tensorflow:Using config: {'_save_checkpoints_steps': None, '_num_worker_replicas': 1, '_session_config': allow_soft_placement: true\n",
      "log_device_placement: true\n",
      ", '_is_chief': True, '_save_checkpoints_secs': 300, '_task_type': 'worker', '_task_id': 0, '_global_id_in_cluster': 0, '_keep_checkpoint_every_n_hours': 10000, '_cluster_spec': <tensorflow.python.training.server_lib.ClusterSpec object at 0x7fc386f4e240>, '_num_ps_replicas': 0, '_tf_random_seed': None, '_keep_checkpoint_max': 5, '_service': None, '_master': '', '_save_summary_steps': 100, '_evaluation_master': '', '_model_dir': './cnn_model/cnn_model_dense1024_drop0.2_lr0.001_20180716065615', '_log_step_count_steps': 100, '_train_distribute': <tensorflow.contrib.distribute.python.mirrored_strategy.MirroredStrategy object at 0x7fc386f4e2b0>}\n"
     ]
    }
   ],
   "source": [
    "estimator = tf.estimator.Estimator(\n",
    "    model_fn=model_fn,model_dir=model_dir,params=model_params,config=config)"
   ]
  },
  {
   "cell_type": "code",
   "execution_count": 28,
   "metadata": {},
   "outputs": [],
   "source": [
    "train_files = !ls ./data/cifar10_data_00*.tfrecords\n",
    "val_files   = !ls ./data/cifar10_data_01*.tfrecords\n",
    "\n",
    "train_params = {'filenames'    : train_files,\n",
    "                'mode'         : tf.estimator.ModeKeys.TRAIN,\n",
    "                'threads'      : 16,\n",
    "                'shuffle_buff' : 100000,\n",
    "                'batch'        : 512\n",
    "               }\n",
    "\n",
    "eval_params  = {'filenames'    : val_files,\n",
    "                'mode'         : tf.estimator.ModeKeys.EVAL,\n",
    "                'threads'      : 8,\n",
    "                'batch'        : 200\n",
    "               }\n",
    "\n",
    "train_spec = tf.estimator.TrainSpec(input_fn=lambda: dataset_input_fn(train_params),max_steps=200000)\n",
    "eval_spec  = tf.estimator.EvalSpec(input_fn=lambda: dataset_input_fn(eval_params),steps=10,throttle_secs=60)\n"
   ]
  },
  {
   "cell_type": "code",
   "execution_count": null,
   "metadata": {},
   "outputs": [
    {
     "name": "stdout",
     "output_type": "stream",
     "text": [
      "INFO:tensorflow:Running training and evaluation locally (non-distributed).\n",
      "INFO:tensorflow:Start train and evaluate loop. The evaluate will happen after 60 secs (eval_spec.throttle_secs) or training is finished.\n",
      "INFO:tensorflow:Device is available but not used by distribute strategy: /device:CPU:0\n",
      "INFO:tensorflow:Configured nccl all-reduce.\n",
      "INFO:tensorflow:Calling model_fn.\n",
      "INFO:tensorflow:Calling model_fn.\n",
      "INFO:tensorflow:Calling model_fn.\n",
      "INFO:tensorflow:Calling model_fn.\n",
      "INFO:tensorflow:batch_all_reduce invoked for batches size = 12 with algorithm = nccl and num_packs = 1\n",
      "INFO:tensorflow:Done calling model_fn.\n",
      "INFO:tensorflow:Done calling model_fn.\n",
      "INFO:tensorflow:Done calling model_fn.\n",
      "INFO:tensorflow:Done calling model_fn.\n",
      "INFO:tensorflow:Create CheckpointSaverHook.\n",
      "INFO:tensorflow:Graph was finalized.\n",
      "INFO:tensorflow:Running local_init_op.\n",
      "INFO:tensorflow:Done running local_init_op.\n",
      "INFO:tensorflow:Saving checkpoints for 1 into ./cnn_model/cnn_model_dense1024_drop0.2_lr0.001_20180716065615/model.ckpt.\n",
      "INFO:tensorflow:loss = 2.3025367, step = 0\n",
      "INFO:tensorflow:global_step/sec: 4.46933\n",
      "INFO:tensorflow:loss = 2.2988472, step = 100 (22.377 sec)\n",
      "INFO:tensorflow:global_step/sec: 3.73469\n",
      "INFO:tensorflow:loss = 2.2967007, step = 200 (26.777 sec)\n",
      "INFO:tensorflow:Saving checkpoints for 201 into ./cnn_model/cnn_model_dense1024_drop0.2_lr0.001_20180716065615/model.ckpt.\n",
      "INFO:tensorflow:Loss for final step: 2.2967007.\n",
      "INFO:tensorflow:Calling model_fn.\n",
      "INFO:tensorflow:Done calling model_fn.\n",
      "INFO:tensorflow:Starting evaluation at 2018-07-16-06:57:44\n",
      "INFO:tensorflow:Graph was finalized.\n",
      "INFO:tensorflow:Restoring parameters from ./cnn_model/cnn_model_dense1024_drop0.2_lr0.001_20180716065615/model.ckpt-201\n",
      "INFO:tensorflow:Running local_init_op.\n",
      "INFO:tensorflow:Done running local_init_op.\n",
      "INFO:tensorflow:Evaluation [1/10]\n",
      "INFO:tensorflow:Evaluation [2/10]\n",
      "INFO:tensorflow:Evaluation [3/10]\n",
      "INFO:tensorflow:Evaluation [4/10]\n",
      "INFO:tensorflow:Evaluation [5/10]\n",
      "INFO:tensorflow:Evaluation [6/10]\n",
      "INFO:tensorflow:Evaluation [7/10]\n",
      "INFO:tensorflow:Evaluation [8/10]\n",
      "INFO:tensorflow:Evaluation [9/10]\n",
      "INFO:tensorflow:Evaluation [10/10]\n",
      "INFO:tensorflow:Finished evaluation at 2018-07-16-06:57:45\n",
      "INFO:tensorflow:Saving dict for global step 201: accuracy = 0.207, global_step = 201, loss = 2.2941697\n",
      "INFO:tensorflow:Calling model_fn.\n",
      "INFO:tensorflow:Calling model_fn.\n",
      "INFO:tensorflow:Calling model_fn.\n",
      "INFO:tensorflow:Calling model_fn.\n",
      "INFO:tensorflow:batch_all_reduce invoked for batches size = 12 with algorithm = nccl and num_packs = 1\n",
      "INFO:tensorflow:Done calling model_fn.\n",
      "INFO:tensorflow:Done calling model_fn.\n",
      "INFO:tensorflow:Done calling model_fn.\n",
      "INFO:tensorflow:Done calling model_fn.\n",
      "INFO:tensorflow:Create CheckpointSaverHook.\n",
      "INFO:tensorflow:Graph was finalized.\n",
      "INFO:tensorflow:Restoring parameters from ./cnn_model/cnn_model_dense1024_drop0.2_lr0.001_20180716065615/model.ckpt-201\n",
      "INFO:tensorflow:Running local_init_op.\n",
      "INFO:tensorflow:Done running local_init_op.\n",
      "INFO:tensorflow:Saving checkpoints for 202 into ./cnn_model/cnn_model_dense1024_drop0.2_lr0.001_20180716065615/model.ckpt.\n",
      "INFO:tensorflow:loss = 2.2955437, step = 201\n"
     ]
    }
   ],
   "source": [
    "tf.estimator.train_and_evaluate(estimator, train_spec, eval_spec)"
   ]
  },
  {
   "cell_type": "code",
   "execution_count": null,
   "metadata": {},
   "outputs": [],
   "source": []
  }
 ],
 "metadata": {
  "kernelspec": {
   "display_name": "Python 3",
   "language": "python",
   "name": "python3"
  },
  "language_info": {
   "codemirror_mode": {
    "name": "ipython",
    "version": 3
   },
   "file_extension": ".py",
   "mimetype": "text/x-python",
   "name": "python",
   "nbconvert_exporter": "python",
   "pygments_lexer": "ipython3",
   "version": "3.5.2"
  }
 },
 "nbformat": 4,
 "nbformat_minor": 2
}
