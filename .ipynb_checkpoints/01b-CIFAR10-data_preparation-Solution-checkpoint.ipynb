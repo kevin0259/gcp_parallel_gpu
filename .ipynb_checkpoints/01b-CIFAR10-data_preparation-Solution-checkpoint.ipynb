{
 "cells": [
  {
   "cell_type": "markdown",
   "metadata": {},
   "source": [
    "CIFAR-10 pickle files to tfrecords conversion.  Source data stored in GCS."
   ]
  },
  {
   "cell_type": "code",
   "execution_count": null,
   "metadata": {},
   "outputs": [],
   "source": [
    "import tensorflow as tf\n",
    "import os\n",
    "import numpy as np\n",
    "import urllib.request\n",
    "from six.moves import cPickle as pickle\n",
    "from random import shuffle"
   ]
  },
  {
   "cell_type": "code",
   "execution_count": null,
   "metadata": {},
   "outputs": [],
   "source": [
    "# Create X/Y arrays from pickle files.\n",
    "\n",
    "path = 'https://storage.googleapis.com/tsaikevin-data/cifar-10-batches-py'\n",
    "\n",
    "x_temp = []\n",
    "y_temp = []\n",
    "\n",
    "for i in range (1,6):\n",
    "    filename = os.path.join(path,'data_batch_%d'%i)\n",
    "    file = urllib.request.urlopen(filename)\n",
    "    data = pickle.load(file, encoding='latin1')\n",
    "    x = data['data'].reshape(-1,3,32,32).transpose(0,2,3,1).astype(\"float\")\n",
    "    y = np.array(data['labels'])\n",
    "    x_temp.append(x)\n",
    "    y_temp.append(y)\n",
    "\n",
    "X = np.concatenate(x_temp)\n",
    "Y = np.concatenate(y_temp)\n",
    "n = Y.shape[0]\n",
    "print(X.shape,n)"
   ]
  },
  {
   "cell_type": "code",
   "execution_count": null,
   "metadata": {},
   "outputs": [],
   "source": [
    "ix = list(range(X.shape[0]))\n",
    "shuffle(ix)\n",
    "ix[:3]"
   ]
  },
  {
   "cell_type": "code",
   "execution_count": null,
   "metadata": {},
   "outputs": [],
   "source": [
    "# set shard size based on number of shards; last may be smaller\n",
    "\n",
    "from math import ceil\n",
    "shards = 11\n",
    "shard_size = ceil(len(ix)/shards)\n",
    "shard_size"
   ]
  },
  {
   "cell_type": "code",
   "execution_count": null,
   "metadata": {},
   "outputs": [],
   "source": [
    "# Helper function for creating tfrecords files\n",
    "\n",
    "def _int64_feature(value):\n",
    "    return tf.train.Feature(int64_list=tf.train.Int64List(value=[value]))\n",
    "def _bytes_feature(value):\n",
    "    return tf.train.Feature(\n",
    "        bytes_list=tf.train.BytesList(value=[value]))"
   ]
  },
  {
   "cell_type": "code",
   "execution_count": null,
   "metadata": {},
   "outputs": [],
   "source": [
    "# Iterate through filenames and serialize images\n",
    "\n",
    "f_prefix = 'cifar10_data_'\n",
    "f_digits = 3\n",
    "f_suffix = 0\n",
    "f_name = f_prefix + str(f_suffix).zfill(f_digits) + '.tfrecords'\n",
    "# create tfrecord file\n",
    "writer = tf.python_io.TFRecordWriter(f_name)\n",
    "print('Writing...'+f_name)\n",
    "ct = 0\n",
    "for idx in ix:\n",
    "    image = X[idx,:,:,:]\n",
    "    label = Y[idx]\n",
    "    e = tf.train.Example(features=tf.train.Features(feature={\n",
    "        'idx'     : _int64_feature(idx),\n",
    "        'label'   : _int64_feature(label),\n",
    "        'image'   : _bytes_feature(image.tostring())\n",
    "        }))\n",
    "    writer.write(e.SerializeToString())\n",
    "    ct += 1\n",
    "    if ct == shard_size:\n",
    "        print('finished writing '+f_name+' with '+str(ct)+' examples')\n",
    "        f_suffix += 1\n",
    "        f_name = f_prefix + str(f_suffix).zfill(f_digits) + '.tfrecords'\n",
    "        # create new tfrecords file\n",
    "        writer = tf.python_io.TFRecordWriter(f_name)\n",
    "        print('Writing...'+f_name)\n",
    "        ct = 0\n",
    "print ('finished writing '+f_name+' with '+str(ct)+' examples')\n",
    "    \n"
   ]
  },
  {
   "cell_type": "code",
   "execution_count": null,
   "metadata": {},
   "outputs": [],
   "source": []
  }
 ],
 "metadata": {
  "kernelspec": {
   "display_name": "Python 3",
   "language": "python",
   "name": "python3"
  },
  "language_info": {
   "codemirror_mode": {
    "name": "ipython",
    "version": 3
   },
   "file_extension": ".py",
   "mimetype": "text/x-python",
   "name": "python",
   "nbconvert_exporter": "python",
   "pygments_lexer": "ipython3",
   "version": "3.5.2"
  }
 },
 "nbformat": 4,
 "nbformat_minor": 2
}
