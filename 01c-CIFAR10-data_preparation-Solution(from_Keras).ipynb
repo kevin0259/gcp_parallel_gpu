{
 "cells": [
  {
   "cell_type": "markdown",
   "metadata": {},
   "source": [
    "CIFAR-10 data from Keras"
   ]
  },
  {
   "cell_type": "code",
   "execution_count": 32,
   "metadata": {},
   "outputs": [],
   "source": [
    "import tensorflow as tf\n",
    "import os\n",
    "import numpy as np\n",
    "from random import shuffle"
   ]
  },
  {
   "cell_type": "code",
   "execution_count": 33,
   "metadata": {},
   "outputs": [
    {
     "name": "stdout",
     "output_type": "stream",
     "text": [
      "x_train shape: (50000, 32, 32, 3)\n",
      "50000 train samples\n",
      "10000 test samples\n"
     ]
    }
   ],
   "source": [
    "from tensorflow.keras.datasets import cifar10\n",
    "# The data, split between train and test sets:\n",
    "(x_train, y_train), (x_test, y_test) = cifar10.load_data()\n",
    "print('x_train shape:', x_train.shape)\n",
    "print(x_train.shape[0], 'train samples')\n",
    "print(x_test.shape[0], 'test samples')"
   ]
  },
  {
   "cell_type": "code",
   "execution_count": 69,
   "metadata": {},
   "outputs": [
    {
     "name": "stdout",
     "output_type": "stream",
     "text": [
      "(60000, 32, 32, 3) 60000\n"
     ]
    }
   ],
   "source": [
    "# Combine Test and Train data sets.  We will shuffle and redistribute later.\n",
    "\n",
    "X = []\n",
    "Y = []\n",
    "\n",
    "X.append(x_train)\n",
    "X.append(x_test)\n",
    "Y.append(y_train)\n",
    "Y.append(y_test)\n",
    "\n",
    "X = np.concatenate(X).astype(float)\n",
    "Y = np.concatenate(Y).astype(int)\n",
    "\n",
    "# Keras downloads labels into [n,1], reshape to [n].\n",
    "\n",
    "Y = Y.reshape([Y.shape[0]])\n",
    "\n",
    "n = Y.shape[0]\n",
    "print(X.shape,n)"
   ]
  },
  {
   "cell_type": "code",
   "execution_count": 70,
   "metadata": {},
   "outputs": [
    {
     "data": {
      "text/plain": [
       "[37974, 13293, 38540]"
      ]
     },
     "execution_count": 70,
     "metadata": {},
     "output_type": "execute_result"
    }
   ],
   "source": [
    "# Create shuffled index toi reorder dta randomly.\n",
    "\n",
    "ix = list(range(X.shape[0]))\n",
    "shuffle(ix)\n",
    "ix[:3]"
   ]
  },
  {
   "cell_type": "code",
   "execution_count": 71,
   "metadata": {},
   "outputs": [
    {
     "data": {
      "text/plain": [
       "5455"
      ]
     },
     "execution_count": 71,
     "metadata": {},
     "output_type": "execute_result"
    }
   ],
   "source": [
    "# Set shard size based on number of shards; last shard may be smaller.\n",
    "# Set shards = 11; this will make wildcard easier later in code.\n",
    "\n",
    "from math import ceil\n",
    "shards = 11\n",
    "shard_size = ceil(len(ix)/shards)\n",
    "shard_size"
   ]
  },
  {
   "cell_type": "code",
   "execution_count": 72,
   "metadata": {},
   "outputs": [],
   "source": [
    "# Helper function for creating tfrecords files\n",
    "\n",
    "def _int64_feature(value):\n",
    "    return tf.train.Feature(int64_list=tf.train.Int64List(value=[value]))\n",
    "def _bytes_feature(value):\n",
    "    return tf.train.Feature(\n",
    "        bytes_list=tf.train.BytesList(value=[value]))"
   ]
  },
  {
   "cell_type": "code",
   "execution_count": 73,
   "metadata": {},
   "outputs": [],
   "source": [
    "!rm -rd ./data\n",
    "!mkdir data"
   ]
  },
  {
   "cell_type": "code",
   "execution_count": 74,
   "metadata": {},
   "outputs": [
    {
     "name": "stdout",
     "output_type": "stream",
     "text": [
      "Writing..../data/cifar10_data_000.tfrecords\n",
      "finished writing ./data/cifar10_data_000.tfrecords with 5455 examples\n",
      "Writing..../data/cifar10_data_001.tfrecords\n",
      "finished writing ./data/cifar10_data_001.tfrecords with 5455 examples\n",
      "Writing..../data/cifar10_data_002.tfrecords\n",
      "finished writing ./data/cifar10_data_002.tfrecords with 5455 examples\n",
      "Writing..../data/cifar10_data_003.tfrecords\n",
      "finished writing ./data/cifar10_data_003.tfrecords with 5455 examples\n",
      "Writing..../data/cifar10_data_004.tfrecords\n",
      "finished writing ./data/cifar10_data_004.tfrecords with 5455 examples\n",
      "Writing..../data/cifar10_data_005.tfrecords\n",
      "finished writing ./data/cifar10_data_005.tfrecords with 5455 examples\n",
      "Writing..../data/cifar10_data_006.tfrecords\n",
      "finished writing ./data/cifar10_data_006.tfrecords with 5455 examples\n",
      "Writing..../data/cifar10_data_007.tfrecords\n",
      "finished writing ./data/cifar10_data_007.tfrecords with 5455 examples\n",
      "Writing..../data/cifar10_data_008.tfrecords\n",
      "finished writing ./data/cifar10_data_008.tfrecords with 5455 examples\n",
      "Writing..../data/cifar10_data_009.tfrecords\n",
      "finished writing ./data/cifar10_data_009.tfrecords with 5455 examples\n",
      "Writing..../data/cifar10_data_010.tfrecords\n",
      "finished writing ./data/cifar10_data_010.tfrecords with 5450 examples\n"
     ]
    }
   ],
   "source": [
    "# Iterate through filenames and serialize images\n",
    "\n",
    "f_prefix = './data/cifar10_data_'\n",
    "f_digits = 3\n",
    "f_suffix = 0\n",
    "f_name = f_prefix + str(f_suffix).zfill(f_digits) + '.tfrecords'\n",
    "# create tfrecord file\n",
    "writer = tf.python_io.TFRecordWriter(f_name)\n",
    "print('Writing...'+f_name)\n",
    "ct = 0\n",
    "for idx in ix:\n",
    "    image = X[idx,:,:,:]\n",
    "    label = Y[idx]\n",
    "    e = tf.train.Example(features=tf.train.Features(feature={\n",
    "        'idx'     : _int64_feature(idx),\n",
    "        'label'   : _int64_feature(label),\n",
    "        'image'   : _bytes_feature(image.tostring())\n",
    "        }))\n",
    "    writer.write(e.SerializeToString())\n",
    "    ct += 1\n",
    "    if ct == shard_size:\n",
    "        print('finished writing '+f_name+' with '+str(ct)+' examples')\n",
    "        f_suffix += 1\n",
    "        f_name = f_prefix + str(f_suffix).zfill(f_digits) + '.tfrecords'\n",
    "        # create new tfrecords file\n",
    "        writer = tf.python_io.TFRecordWriter(f_name)\n",
    "        print('Writing...'+f_name)\n",
    "        ct = 0\n",
    "print ('finished writing '+f_name+' with '+str(ct)+' examples')\n",
    "    \n"
   ]
  }
 ],
 "metadata": {
  "kernelspec": {
   "display_name": "Python 3",
   "language": "python",
   "name": "python3"
  },
  "language_info": {
   "codemirror_mode": {
    "name": "ipython",
    "version": 3
   },
   "file_extension": ".py",
   "mimetype": "text/x-python",
   "name": "python",
   "nbconvert_exporter": "python",
   "pygments_lexer": "ipython3",
   "version": "3.5.2"
  }
 },
 "nbformat": 4,
 "nbformat_minor": 2
}
