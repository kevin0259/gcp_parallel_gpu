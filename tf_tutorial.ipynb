{
 "cells": [
  {
   "cell_type": "code",
   "execution_count": 1,
   "metadata": {},
   "outputs": [],
   "source": [
    "import time\n",
    "import os\n",
    "import numpy as np\n",
    "import tensorflow as tf\n",
    "from __future__ import absolute_import\n",
    "from __future__ import division\n",
    "from __future__ import print_function"
   ]
  },
  {
   "cell_type": "code",
   "execution_count": 2,
   "metadata": {},
   "outputs": [
    {
     "name": "stdout",
     "output_type": "stream",
     "text": [
      "WARNING:tensorflow:From /home/tsaikevin/env/tf17p3/lib/python3.5/site-packages/tensorflow/contrib/learn/python/learn/datasets/base.py:198: retry (from tensorflow.contrib.learn.python.learn.datasets.base) is deprecated and will be removed in a future version.\n",
      "Instructions for updating:\n",
      "Use the retry module or similar alternatives.\n",
      "WARNING:tensorflow:From <ipython-input-2-0d66db724e8f>:1: load_dataset (from tensorflow.contrib.learn.python.learn.datasets) is deprecated and will be removed in a future version.\n",
      "Instructions for updating:\n",
      "Please use tf.data.\n",
      "WARNING:tensorflow:From /home/tsaikevin/env/tf17p3/lib/python3.5/site-packages/tensorflow/contrib/learn/python/learn/datasets/__init__.py:80: load_mnist (from tensorflow.contrib.learn.python.learn.datasets.mnist) is deprecated and will be removed in a future version.\n",
      "Instructions for updating:\n",
      "Please use alternatives such as official/mnist/dataset.py from tensorflow/models.\n",
      "WARNING:tensorflow:From /home/tsaikevin/env/tf17p3/lib/python3.5/site-packages/tensorflow/contrib/learn/python/learn/datasets/mnist.py:300: read_data_sets (from tensorflow.contrib.learn.python.learn.datasets.mnist) is deprecated and will be removed in a future version.\n",
      "Instructions for updating:\n",
      "Please use alternatives such as official/mnist/dataset.py from tensorflow/models.\n",
      "WARNING:tensorflow:From /home/tsaikevin/env/tf17p3/lib/python3.5/site-packages/tensorflow/contrib/learn/python/learn/datasets/mnist.py:260: maybe_download (from tensorflow.contrib.learn.python.learn.datasets.base) is deprecated and will be removed in a future version.\n",
      "Instructions for updating:\n",
      "Please write your own downloading logic.\n",
      "WARNING:tensorflow:From /home/tsaikevin/env/tf17p3/lib/python3.5/site-packages/tensorflow/contrib/learn/python/learn/datasets/mnist.py:262: extract_images (from tensorflow.contrib.learn.python.learn.datasets.mnist) is deprecated and will be removed in a future version.\n",
      "Instructions for updating:\n",
      "Please use tf.data to implement this functionality.\n",
      "Extracting MNIST-data/train-images-idx3-ubyte.gz\n",
      "WARNING:tensorflow:From /home/tsaikevin/env/tf17p3/lib/python3.5/site-packages/tensorflow/contrib/learn/python/learn/datasets/mnist.py:267: extract_labels (from tensorflow.contrib.learn.python.learn.datasets.mnist) is deprecated and will be removed in a future version.\n",
      "Instructions for updating:\n",
      "Please use tf.data to implement this functionality.\n",
      "Extracting MNIST-data/train-labels-idx1-ubyte.gz\n",
      "Extracting MNIST-data/t10k-images-idx3-ubyte.gz\n",
      "Extracting MNIST-data/t10k-labels-idx1-ubyte.gz\n",
      "WARNING:tensorflow:From /home/tsaikevin/env/tf17p3/lib/python3.5/site-packages/tensorflow/contrib/learn/python/learn/datasets/mnist.py:290: DataSet.__init__ (from tensorflow.contrib.learn.python.learn.datasets.mnist) is deprecated and will be removed in a future version.\n",
      "Instructions for updating:\n",
      "Please use alternatives such as official/mnist/dataset.py from tensorflow/models.\n"
     ]
    }
   ],
   "source": [
    "mnist = tf.contrib.learn.datasets.load_dataset(\"mnist\")\n",
    "train_data = mnist.train.images\n",
    "train_labels = np.asarray(mnist.train.labels, dtype=np.int32)\n",
    "eval_data = mnist.test.images\n",
    "eval_labels = np.asarray(mnist.test.labels, dtype=np.int32)"
   ]
  },
  {
   "cell_type": "code",
   "execution_count": 3,
   "metadata": {},
   "outputs": [
    {
     "data": {
      "text/plain": [
       "(55000, 784)"
      ]
     },
     "execution_count": 3,
     "metadata": {},
     "output_type": "execute_result"
    }
   ],
   "source": [
    "train_data.shape"
   ]
  },
  {
   "cell_type": "code",
   "execution_count": 4,
   "metadata": {},
   "outputs": [],
   "source": [
    "train_input_fn = tf.estimator.inputs.numpy_input_fn(\n",
    "    x={\"x\": train_data},y=train_labels,batch_size=100,num_epochs=None,shuffle=True)\n",
    "eval_input_fn  = tf.estimator.inputs.numpy_input_fn(\n",
    "    x={\"x\": eval_data},y=eval_labels,num_epochs=1,shuffle=False)\n",
    "pred_input_fn  = tf.estimator.inputs.numpy_input_fn(\n",
    "    x={\"x\": eval_data},num_epochs=1,shuffle=False)"
   ]
  },
  {
   "cell_type": "code",
   "execution_count": 8,
   "metadata": {},
   "outputs": [],
   "source": [
    "config     = tf.estimator.RunConfig(save_checkpoints_secs = 30, keep_checkpoint_max = 5)\n",
    "mnist_path = 'gs://tsaikevin-working/models/mnist/'"
   ]
  },
  {
   "cell_type": "code",
   "execution_count": 9,
   "metadata": {},
   "outputs": [],
   "source": [
    "dnn_dir    = os.path.join(mnist_path,'dnn_model')\n",
    "#dnn_dir    = dnn_dir+'_'+time.strftime(\"%Y%m%d%H%M%S\")"
   ]
  },
  {
   "cell_type": "code",
   "execution_count": 10,
   "metadata": {},
   "outputs": [
    {
     "name": "stdout",
     "output_type": "stream",
     "text": [
      "INFO:tensorflow:Using config: {'_session_config': None, '_save_summary_steps': 100, '_num_worker_replicas': 1, '_task_id': 0, '_keep_checkpoint_every_n_hours': 10000, '_is_chief': True, '_keep_checkpoint_max': 5, '_model_dir': 'gs://tsaikevin-working/models/mnist/dnn_model', '_evaluation_master': '', '_task_type': 'worker', '_master': '', '_num_ps_replicas': 0, '_tf_random_seed': None, '_save_checkpoints_secs': 30, '_log_step_count_steps': 100, '_global_id_in_cluster': 0, '_cluster_spec': <tensorflow.python.training.server_lib.ClusterSpec object at 0x7f076cbb2cc0>, '_service': None, '_save_checkpoints_steps': None}\n"
     ]
    }
   ],
   "source": [
    "features = [tf.feature_column.numeric_column(\"x\",shape=([784]),dtype=tf.float32)]\n",
    "dnn_classifier = tf.estimator.DNNClassifier(hidden_units=[128,128],feature_columns=features,\n",
    "                                            model_dir=dnn_dir,n_classes=10,config=config)"
   ]
  },
  {
   "cell_type": "code",
   "execution_count": 11,
   "metadata": {},
   "outputs": [
    {
     "name": "stdout",
     "output_type": "stream",
     "text": [
      "INFO:tensorflow:Running training and evaluation locally (non-distributed).\n",
      "INFO:tensorflow:Start train and evaluate loop. The evaluate will happen after 600 secs (eval_spec.throttle_secs) or training is finished.\n",
      "INFO:tensorflow:Skipping training since max_steps has already saved.\n",
      "INFO:tensorflow:Calling model_fn.\n",
      "INFO:tensorflow:Done calling model_fn.\n",
      "INFO:tensorflow:Starting evaluation at 2018-04-16-00:03:14\n",
      "INFO:tensorflow:Graph was finalized.\n",
      "INFO:tensorflow:Restoring parameters from gs://tsaikevin-working/models/mnist/dnn_model/model.ckpt-8000\n",
      "INFO:tensorflow:Running local_init_op.\n",
      "INFO:tensorflow:Done running local_init_op.\n",
      "INFO:tensorflow:Evaluation [10/100]\n",
      "INFO:tensorflow:Evaluation [20/100]\n",
      "INFO:tensorflow:Evaluation [30/100]\n",
      "INFO:tensorflow:Evaluation [40/100]\n",
      "INFO:tensorflow:Evaluation [50/100]\n",
      "INFO:tensorflow:Evaluation [60/100]\n",
      "INFO:tensorflow:Evaluation [70/100]\n",
      "INFO:tensorflow:Finished evaluation at 2018-04-16-00:03:17\n",
      "INFO:tensorflow:Saving dict for global step 8000: accuracy = 0.9742, average_loss = 0.094774716, global_step = 8000, loss = 11.996799\n"
     ]
    }
   ],
   "source": [
    "train_spec = tf.estimator.TrainSpec(input_fn=train_input_fn, max_steps=8000)\n",
    "eval_spec  = tf.estimator.EvalSpec(input_fn=eval_input_fn)\n",
    "\n",
    "#!gsutil rm -rf $dnn_dir\n",
    "tf.estimator.train_and_evaluate(dnn_classifier, train_spec, eval_spec)"
   ]
  },
  {
   "cell_type": "code",
   "execution_count": 12,
   "metadata": {},
   "outputs": [
    {
     "name": "stdout",
     "output_type": "stream",
     "text": [
      "gs://tsaikevin-working/models/mnist/dnn_model/\n",
      "gs://tsaikevin-working/models/mnist/dnn_model/checkpoint\n",
      "gs://tsaikevin-working/models/mnist/dnn_model/events.out.tfevents.1523251035.tfgpu2\n",
      "gs://tsaikevin-working/models/mnist/dnn_model/graph.pbtxt\n",
      "gs://tsaikevin-working/models/mnist/dnn_model/model.ckpt-1.data-00000-of-00001\n",
      "gs://tsaikevin-working/models/mnist/dnn_model/model.ckpt-1.index\n",
      "gs://tsaikevin-working/models/mnist/dnn_model/model.ckpt-1.meta\n",
      "gs://tsaikevin-working/models/mnist/dnn_model/model.ckpt-5000.data-00000-of-00001\n",
      "gs://tsaikevin-working/models/mnist/dnn_model/model.ckpt-5000.index\n",
      "gs://tsaikevin-working/models/mnist/dnn_model/model.ckpt-5000.meta\n",
      "gs://tsaikevin-working/models/mnist/dnn_model/model.ckpt-5001.data-00000-of-00001\n",
      "gs://tsaikevin-working/models/mnist/dnn_model/model.ckpt-5001.index\n",
      "gs://tsaikevin-working/models/mnist/dnn_model/model.ckpt-5001.meta\n",
      "gs://tsaikevin-working/models/mnist/dnn_model/model.ckpt-8000.data-00000-of-00001\n",
      "gs://tsaikevin-working/models/mnist/dnn_model/model.ckpt-8000.index\n",
      "gs://tsaikevin-working/models/mnist/dnn_model/model.ckpt-8000.meta\n",
      "gs://tsaikevin-working/models/mnist/dnn_model/1523419085/\n",
      "gs://tsaikevin-working/models/mnist/dnn_model/1523784407/\n",
      "gs://tsaikevin-working/models/mnist/dnn_model/eval/\n"
     ]
    }
   ],
   "source": [
    "!gsutil ls $dnn_dir"
   ]
  },
  {
   "cell_type": "code",
   "execution_count": 13,
   "metadata": {},
   "outputs": [
    {
     "name": "stdout",
     "output_type": "stream",
     "text": [
      "INFO:tensorflow:Calling model_fn.\n",
      "INFO:tensorflow:Done calling model_fn.\n",
      "INFO:tensorflow:Graph was finalized.\n",
      "INFO:tensorflow:Restoring parameters from gs://tsaikevin-working/models/mnist/dnn_model/model.ckpt-8000\n",
      "INFO:tensorflow:Running local_init_op.\n",
      "INFO:tensorflow:Done running local_init_op.\n"
     ]
    }
   ],
   "source": [
    "predictions = list(dnn_classifier.predict(input_fn=pred_input_fn))"
   ]
  },
  {
   "cell_type": "code",
   "execution_count": 14,
   "metadata": {},
   "outputs": [
    {
     "data": {
      "text/plain": [
       "[{'class_ids': array([7]),\n",
       "  'classes': array([b'7'], dtype=object),\n",
       "  'logits': array([ -2.1894476 ,  -1.8627963 ,   0.06993326,   3.1545632 ,\n",
       "          -6.8113027 ,  -1.8964133 , -16.330698  ,  16.417059  ,\n",
       "          -0.11985463,   0.0387926 ], dtype=float32),\n",
       "  'probabilities': array([8.3041671e-09, 1.1512210e-08, 7.9530288e-08, 1.7384825e-06,\n",
       "         8.1667659e-11, 1.1131636e-08, 5.9955499e-15, 9.9999809e-01,\n",
       "         6.5782309e-08, 7.7091777e-08], dtype=float32)},\n",
       " {'class_ids': array([2]),\n",
       "  'classes': array([b'2'], dtype=object),\n",
       "  'logits': array([ -4.940525 ,   8.103528 ,  21.00112  ,   6.9831715, -11.442986 ,\n",
       "          -3.1269524,  -9.135772 ,  -2.059566 ,   3.8750021, -14.349002 ],\n",
       "        dtype=float32),\n",
       "  'probabilities': array([5.4160838e-12, 2.5040656e-06, 9.9999666e-01, 8.1673471e-07,\n",
       "         8.1227275e-15, 3.3213120e-11, 8.1604360e-14, 9.6576136e-11,\n",
       "         3.6493887e-08, 4.4425899e-16], dtype=float32)},\n",
       " {'class_ids': array([1]),\n",
       "  'classes': array([b'1'], dtype=object),\n",
       "  'logits': array([-0.8074512 , 12.299132  , -0.22957401, -6.131478  ,  0.07331647,\n",
       "         -1.8991363 , -0.2471689 ,  2.6186724 ,  1.7728968 , -6.5452676 ],\n",
       "        dtype=float32),\n",
       "  'probabilities': array([2.0315986e-06, 9.9989593e-01, 3.6208178e-06, 9.9001616e-09,\n",
       "         4.9017422e-06, 6.8190678e-07, 3.5576691e-06, 6.2486244e-05,\n",
       "         2.6820619e-05, 6.5453922e-09], dtype=float32)}]"
      ]
     },
     "execution_count": 14,
     "metadata": {},
     "output_type": "execute_result"
    }
   ],
   "source": [
    "predictions[0:3]"
   ]
  },
  {
   "cell_type": "code",
   "execution_count": 15,
   "metadata": {},
   "outputs": [],
   "source": [
    "def serving_input_receiver_fn():\n",
    "    receiver_tensor = {'x': tf.placeholder(shape=[None,28,28,1], dtype=tf.string)}\n",
    "    features = {'x': receiver_tensor['x']}\n",
    "    return tf.estimator.export.ServingInputReceiver(features, receiver_tensor)"
   ]
  },
  {
   "cell_type": "code",
   "execution_count": 16,
   "metadata": {},
   "outputs": [
    {
     "name": "stdout",
     "output_type": "stream",
     "text": [
      "INFO:tensorflow:Calling model_fn.\n",
      "INFO:tensorflow:Done calling model_fn.\n",
      "INFO:tensorflow:Signatures INCLUDED in export for Classify: ['classification', 'serving_default']\n",
      "INFO:tensorflow:Signatures INCLUDED in export for Predict: ['predict']\n",
      "INFO:tensorflow:Signatures INCLUDED in export for Regress: None\n",
      "INFO:tensorflow:Restoring parameters from gs://tsaikevin-working/models/mnist/dnn_model/model.ckpt-8000\n",
      "INFO:tensorflow:Assets added to graph.\n",
      "INFO:tensorflow:No assets to write.\n",
      "INFO:tensorflow:SavedModel written to: b\"gs://tsaikevin-working/models/mnist/dnn_model/temp-b'1523837011'/saved_model.pb\"\n"
     ]
    },
    {
     "data": {
      "text/plain": [
       "b'gs://tsaikevin-working/models/mnist/dnn_model/1523837011'"
      ]
     },
     "execution_count": 16,
     "metadata": {},
     "output_type": "execute_result"
    }
   ],
   "source": [
    "dnn_classifier.export_savedmodel(\n",
    "    export_dir_base=dnn_dir,serving_input_receiver_fn=serving_input_receiver_fn)"
   ]
  },
  {
   "cell_type": "markdown",
   "metadata": {},
   "source": [
    "## Using Convnet"
   ]
  },
  {
   "cell_type": "code",
   "execution_count": 35,
   "metadata": {},
   "outputs": [],
   "source": [
    "def cnn_model_fn(features, labels, mode, params):\n",
    "    input_layer = tf.reshape(features[\"x\"], [-1, 28, 28, 1])\n",
    "    \n",
    "    conv1 = tf.layers.conv2d(inputs=input_layer,filters=32,kernel_size=[5,5],\n",
    "                             padding=\"same\",activation=tf.nn.relu)\n",
    "    pool1 = tf.layers.max_pooling2d(inputs=conv1, pool_size=[2, 2], strides=2)\n",
    "    \n",
    "    conv2 = tf.layers.conv2d(inputs=pool1,filters=64,kernel_size=[5,5],\n",
    "                             padding=\"same\",activation=tf.nn.relu)\n",
    "    pool2 = tf.layers.max_pooling2d(inputs=conv2, pool_size=[2, 2], strides=2)\n",
    "\n",
    "    pool2_flat = tf.reshape(pool2, [-1, 7 * 7 * 64])\n",
    "    dense = tf.layers.dense(inputs=pool2_flat, units=params['dense_units'], activation=tf.nn.relu)\n",
    "\n",
    "    dropout = tf.layers.dropout(inputs=dense, rate=params['drop_out'], \n",
    "                                training=mode == tf.estimator.ModeKeys.TRAIN)\n",
    "\n",
    "    logits = tf.layers.dense(inputs=dropout, units=10)\n",
    "    \n",
    "    predictions = {\"classes\": tf.argmax(input=logits, axis=1),\n",
    "                   \"logits\": logits,\n",
    "                   \"probabilities\": tf.nn.softmax(logits, name='softmax')}\n",
    "    export_outputs = {'predictions': tf.estimator.export.PredictOutput(predictions)}\n",
    "\n",
    "    # MODE = PREDICT\n",
    "    if mode == tf.estimator.ModeKeys.PREDICT:\n",
    "        return tf.estimator.EstimatorSpec(\n",
    "            mode=mode, predictions=predictions, export_outputs=export_outputs)\n",
    "\n",
    "    loss = tf.losses.sparse_softmax_cross_entropy(labels=labels, logits=logits)\n",
    "    \n",
    "    # MODE = TRAIN\n",
    "    if mode == tf.estimator.ModeKeys.TRAIN:\n",
    "        optimizer = tf.train.GradientDescentOptimizer(learning_rate=params['learning_rate'])\n",
    "        train_op = optimizer.minimize(loss=loss,global_step=tf.train.get_global_step())\n",
    "        \n",
    "        accuracy = tf.metrics.accuracy(labels=labels, predictions=tf.argmax(logits, axis=1))\n",
    "\n",
    "        return tf.estimator.EstimatorSpec(\n",
    "            mode=mode, loss=loss, train_op=train_op)\n",
    "    \n",
    "    # MODE = EVAL\n",
    "    if mode == tf.estimator.ModeKeys.EVAL:\n",
    "        accuracy = tf.metrics.accuracy(labels=labels,predictions=predictions['classes'])\n",
    "        eval_metric_ops = {'eval_accuracy': accuracy}\n",
    "        return tf.estimator.EstimatorSpec(\n",
    "            mode=mode,loss=loss,eval_metric_ops=eval_metric_ops)"
   ]
  },
  {
   "cell_type": "code",
   "execution_count": 36,
   "metadata": {},
   "outputs": [],
   "source": [
    "model_params  = {'drop_out'      : 0.4,\n",
    "                 'dense_units'   : 1024,\n",
    "                 'learning_rate' : 1e-3}\n",
    "\n",
    "cnn_dir  = os.path.join(mnist_path,'cnn_model')\n",
    "#cnn_dir  = cnn_dir+'_'+time.strftime(\"%Y%m%d%H%M%S\")"
   ]
  },
  {
   "cell_type": "code",
   "execution_count": 37,
   "metadata": {},
   "outputs": [
    {
     "name": "stdout",
     "output_type": "stream",
     "text": [
      "CommandException: One or more URLs matched no objects.\n"
     ]
    }
   ],
   "source": [
    "!gsutil ls $cnn_dir"
   ]
  },
  {
   "cell_type": "code",
   "execution_count": 38,
   "metadata": {},
   "outputs": [],
   "source": [
    "from mnist_model import ext_cnn_model_fn"
   ]
  },
  {
   "cell_type": "code",
   "execution_count": 39,
   "metadata": {},
   "outputs": [
    {
     "name": "stdout",
     "output_type": "stream",
     "text": [
      "INFO:tensorflow:Using config: {'_session_config': None, '_save_summary_steps': 100, '_num_worker_replicas': 1, '_task_id': 0, '_keep_checkpoint_every_n_hours': 10000, '_is_chief': True, '_keep_checkpoint_max': 5, '_model_dir': 'gs://tsaikevin-working/models/mnist/cnn_model', '_evaluation_master': '', '_task_type': 'worker', '_master': '', '_num_ps_replicas': 0, '_tf_random_seed': None, '_save_checkpoints_secs': 30, '_log_step_count_steps': 100, '_global_id_in_cluster': 0, '_cluster_spec': <tensorflow.python.training.server_lib.ClusterSpec object at 0x7f07eb7ead68>, '_service': None, '_save_checkpoints_steps': None}\n"
     ]
    }
   ],
   "source": [
    "cnn_classifier = tf.estimator.Estimator(\n",
    "    model_fn=cnn_model_fn,model_dir=cnn_dir,params=model_params,config=config)"
   ]
  },
  {
   "cell_type": "code",
   "execution_count": 40,
   "metadata": {},
   "outputs": [
    {
     "name": "stdout",
     "output_type": "stream",
     "text": [
      "CommandException: 1 files/objects could not be removed.\n",
      "INFO:tensorflow:Running training and evaluation locally (non-distributed).\n",
      "INFO:tensorflow:Start train and evaluate loop. The evaluate will happen after 10 secs (eval_spec.throttle_secs) or training is finished.\n",
      "INFO:tensorflow:Calling model_fn.\n",
      "INFO:tensorflow:Done calling model_fn.\n",
      "INFO:tensorflow:Create CheckpointSaverHook.\n",
      "INFO:tensorflow:Graph was finalized.\n",
      "INFO:tensorflow:Running local_init_op.\n",
      "INFO:tensorflow:Done running local_init_op.\n",
      "INFO:tensorflow:Saving checkpoints for 1 into gs://tsaikevin-working/models/mnist/cnn_model/model.ckpt.\n",
      "INFO:tensorflow:loss = 2.3117821, step = 0\n",
      "INFO:tensorflow:global_step/sec: 231.816\n",
      "INFO:tensorflow:loss = 2.2975693, step = 100 (0.432 sec)\n",
      "INFO:tensorflow:global_step/sec: 272.413\n",
      "INFO:tensorflow:loss = 2.285695, step = 200 (0.367 sec)\n",
      "INFO:tensorflow:global_step/sec: 271.252\n",
      "INFO:tensorflow:loss = 2.259865, step = 300 (0.368 sec)\n",
      "INFO:tensorflow:global_step/sec: 271.924\n",
      "INFO:tensorflow:loss = 2.243614, step = 400 (0.368 sec)\n",
      "INFO:tensorflow:global_step/sec: 273.584\n",
      "INFO:tensorflow:loss = 2.2364068, step = 500 (0.366 sec)\n",
      "INFO:tensorflow:global_step/sec: 272.083\n",
      "INFO:tensorflow:loss = 2.1976464, step = 600 (0.368 sec)\n",
      "INFO:tensorflow:global_step/sec: 270.876\n",
      "INFO:tensorflow:loss = 2.17782, step = 700 (0.369 sec)\n",
      "INFO:tensorflow:global_step/sec: 270.651\n",
      "INFO:tensorflow:loss = 2.0995815, step = 800 (0.370 sec)\n",
      "INFO:tensorflow:global_step/sec: 271.846\n",
      "INFO:tensorflow:loss = 2.0972295, step = 900 (0.368 sec)\n",
      "INFO:tensorflow:global_step/sec: 272.103\n",
      "INFO:tensorflow:loss = 2.0206647, step = 1000 (0.368 sec)\n",
      "INFO:tensorflow:global_step/sec: 272.623\n",
      "INFO:tensorflow:loss = 1.9312398, step = 1100 (0.367 sec)\n",
      "INFO:tensorflow:global_step/sec: 271.638\n",
      "INFO:tensorflow:loss = 1.8249115, step = 1200 (0.368 sec)\n",
      "INFO:tensorflow:global_step/sec: 272.851\n",
      "INFO:tensorflow:loss = 1.5821185, step = 1300 (0.367 sec)\n",
      "INFO:tensorflow:global_step/sec: 271.412\n",
      "INFO:tensorflow:loss = 1.4227787, step = 1400 (0.368 sec)\n",
      "INFO:tensorflow:global_step/sec: 271.648\n",
      "INFO:tensorflow:loss = 1.3587606, step = 1500 (0.368 sec)\n",
      "INFO:tensorflow:Saving checkpoints for 1565 into gs://tsaikevin-working/models/mnist/cnn_model/model.ckpt.\n",
      "INFO:tensorflow:Loss for final step: 1.2267396.\n",
      "INFO:tensorflow:Calling model_fn.\n",
      "INFO:tensorflow:Done calling model_fn.\n",
      "INFO:tensorflow:Starting evaluation at 2018-04-16-00:16:43\n",
      "INFO:tensorflow:Graph was finalized.\n",
      "INFO:tensorflow:Restoring parameters from gs://tsaikevin-working/models/mnist/cnn_model/model.ckpt-1565\n",
      "INFO:tensorflow:Running local_init_op.\n",
      "INFO:tensorflow:Done running local_init_op.\n",
      "INFO:tensorflow:Evaluation [10/100]\n",
      "INFO:tensorflow:Evaluation [20/100]\n",
      "INFO:tensorflow:Evaluation [30/100]\n",
      "INFO:tensorflow:Evaluation [40/100]\n",
      "INFO:tensorflow:Evaluation [50/100]\n",
      "INFO:tensorflow:Evaluation [60/100]\n",
      "INFO:tensorflow:Evaluation [70/100]\n",
      "INFO:tensorflow:Finished evaluation at 2018-04-16-00:16:43\n",
      "INFO:tensorflow:Saving dict for global step 1565: eval_accuracy = 0.7643, global_step = 1565, loss = 1.1362337\n",
      "INFO:tensorflow:Calling model_fn.\n",
      "INFO:tensorflow:Done calling model_fn.\n",
      "INFO:tensorflow:Create CheckpointSaverHook.\n",
      "INFO:tensorflow:Graph was finalized.\n",
      "INFO:tensorflow:Restoring parameters from gs://tsaikevin-working/models/mnist/cnn_model/model.ckpt-1565\n",
      "INFO:tensorflow:Running local_init_op.\n",
      "INFO:tensorflow:Done running local_init_op.\n",
      "INFO:tensorflow:Saving checkpoints for 1566 into gs://tsaikevin-working/models/mnist/cnn_model/model.ckpt.\n",
      "INFO:tensorflow:loss = 1.2936035, step = 1565\n",
      "INFO:tensorflow:global_step/sec: 238.969\n",
      "INFO:tensorflow:loss = 1.0478224, step = 1665 (0.420 sec)\n",
      "INFO:tensorflow:global_step/sec: 270.381\n",
      "INFO:tensorflow:loss = 1.0839864, step = 1765 (0.370 sec)\n",
      "INFO:tensorflow:global_step/sec: 271.582\n",
      "INFO:tensorflow:loss = 0.89715374, step = 1865 (0.368 sec)\n",
      "INFO:tensorflow:global_step/sec: 269.994\n",
      "INFO:tensorflow:loss = 0.7578891, step = 1965 (0.370 sec)\n",
      "INFO:tensorflow:global_step/sec: 273.044\n",
      "INFO:tensorflow:loss = 0.77565664, step = 2065 (0.366 sec)\n",
      "INFO:tensorflow:global_step/sec: 272.978\n",
      "INFO:tensorflow:loss = 0.6497618, step = 2165 (0.366 sec)\n",
      "INFO:tensorflow:global_step/sec: 272.471\n",
      "INFO:tensorflow:loss = 0.6160509, step = 2265 (0.367 sec)\n",
      "INFO:tensorflow:global_step/sec: 268.254\n",
      "INFO:tensorflow:loss = 0.66076267, step = 2365 (0.373 sec)\n",
      "INFO:tensorflow:global_step/sec: 271.472\n",
      "INFO:tensorflow:loss = 0.5962367, step = 2465 (0.369 sec)\n",
      "INFO:tensorflow:global_step/sec: 270.999\n",
      "INFO:tensorflow:loss = 0.53891605, step = 2565 (0.369 sec)\n",
      "INFO:tensorflow:global_step/sec: 271.647\n",
      "INFO:tensorflow:loss = 0.65394515, step = 2665 (0.368 sec)\n",
      "INFO:tensorflow:global_step/sec: 271.881\n",
      "INFO:tensorflow:loss = 0.41512161, step = 2765 (0.368 sec)\n",
      "INFO:tensorflow:global_step/sec: 274.412\n",
      "INFO:tensorflow:loss = 0.64587307, step = 2865 (0.364 sec)\n",
      "INFO:tensorflow:global_step/sec: 273.006\n",
      "INFO:tensorflow:loss = 0.68918914, step = 2965 (0.366 sec)\n",
      "INFO:tensorflow:global_step/sec: 272.665\n",
      "INFO:tensorflow:loss = 0.6210967, step = 3065 (0.367 sec)\n",
      "INFO:tensorflow:global_step/sec: 271.934\n",
      "INFO:tensorflow:loss = 0.41252685, step = 3165 (0.368 sec)\n",
      "INFO:tensorflow:Saving checkpoints for 3215 into gs://tsaikevin-working/models/mnist/cnn_model/model.ckpt.\n",
      "INFO:tensorflow:Loss for final step: 0.5110498.\n",
      "INFO:tensorflow:Calling model_fn.\n",
      "INFO:tensorflow:Done calling model_fn.\n",
      "INFO:tensorflow:Starting evaluation at 2018-04-16-00:16:57\n",
      "INFO:tensorflow:Graph was finalized.\n",
      "INFO:tensorflow:Restoring parameters from gs://tsaikevin-working/models/mnist/cnn_model/model.ckpt-3215\n",
      "INFO:tensorflow:Running local_init_op.\n",
      "INFO:tensorflow:Done running local_init_op.\n",
      "INFO:tensorflow:Evaluation [10/100]\n",
      "INFO:tensorflow:Evaluation [20/100]\n",
      "INFO:tensorflow:Evaluation [30/100]\n",
      "INFO:tensorflow:Evaluation [40/100]\n",
      "INFO:tensorflow:Evaluation [50/100]\n",
      "INFO:tensorflow:Evaluation [60/100]\n",
      "INFO:tensorflow:Evaluation [70/100]\n",
      "INFO:tensorflow:Finished evaluation at 2018-04-16-00:16:58\n",
      "INFO:tensorflow:Saving dict for global step 3215: eval_accuracy = 0.8987, global_step = 3215, loss = 0.3886169\n",
      "INFO:tensorflow:Calling model_fn.\n",
      "INFO:tensorflow:Done calling model_fn.\n",
      "INFO:tensorflow:Create CheckpointSaverHook.\n",
      "INFO:tensorflow:Graph was finalized.\n",
      "INFO:tensorflow:Restoring parameters from gs://tsaikevin-working/models/mnist/cnn_model/model.ckpt-3215\n",
      "INFO:tensorflow:Running local_init_op.\n",
      "INFO:tensorflow:Done running local_init_op.\n",
      "INFO:tensorflow:Saving checkpoints for 3216 into gs://tsaikevin-working/models/mnist/cnn_model/model.ckpt.\n",
      "INFO:tensorflow:loss = 0.29560933, step = 3215\n",
      "INFO:tensorflow:global_step/sec: 237.983\n",
      "INFO:tensorflow:loss = 0.42293853, step = 3315 (0.421 sec)\n",
      "INFO:tensorflow:global_step/sec: 271.309\n",
      "INFO:tensorflow:loss = 0.35497424, step = 3415 (0.368 sec)\n",
      "INFO:tensorflow:global_step/sec: 271.839\n",
      "INFO:tensorflow:loss = 0.37446797, step = 3515 (0.368 sec)\n",
      "INFO:tensorflow:global_step/sec: 272.661\n",
      "INFO:tensorflow:loss = 0.3718008, step = 3615 (0.367 sec)\n",
      "INFO:tensorflow:global_step/sec: 271.069\n",
      "INFO:tensorflow:loss = 0.7047656, step = 3715 (0.369 sec)\n",
      "INFO:tensorflow:global_step/sec: 271.086\n",
      "INFO:tensorflow:loss = 0.4339379, step = 3815 (0.369 sec)\n",
      "INFO:tensorflow:global_step/sec: 271.5\n",
      "INFO:tensorflow:loss = 0.47718734, step = 3915 (0.368 sec)\n",
      "INFO:tensorflow:global_step/sec: 270.94\n",
      "INFO:tensorflow:loss = 0.35715225, step = 4015 (0.369 sec)\n",
      "INFO:tensorflow:global_step/sec: 271.439\n",
      "INFO:tensorflow:loss = 0.35523376, step = 4115 (0.369 sec)\n",
      "INFO:tensorflow:global_step/sec: 271.849\n",
      "INFO:tensorflow:loss = 0.44404277, step = 4215 (0.368 sec)\n",
      "INFO:tensorflow:global_step/sec: 272.789\n",
      "INFO:tensorflow:loss = 0.36677754, step = 4315 (0.367 sec)\n",
      "INFO:tensorflow:global_step/sec: 273.406\n",
      "INFO:tensorflow:loss = 0.18949501, step = 4415 (0.366 sec)\n",
      "INFO:tensorflow:global_step/sec: 272.416\n",
      "INFO:tensorflow:loss = 0.22593, step = 4515 (0.367 sec)\n",
      "INFO:tensorflow:global_step/sec: 271.583\n",
      "INFO:tensorflow:loss = 0.31715104, step = 4615 (0.368 sec)\n",
      "INFO:tensorflow:global_step/sec: 271.38\n",
      "INFO:tensorflow:loss = 0.3139184, step = 4715 (0.369 sec)\n",
      "INFO:tensorflow:Saving checkpoints for 4803 into gs://tsaikevin-working/models/mnist/cnn_model/model.ckpt.\n",
      "INFO:tensorflow:Loss for final step: 0.42832768.\n",
      "INFO:tensorflow:Calling model_fn.\n",
      "INFO:tensorflow:Done calling model_fn.\n",
      "INFO:tensorflow:Starting evaluation at 2018-04-16-00:17:12\n",
      "INFO:tensorflow:Graph was finalized.\n",
      "INFO:tensorflow:Restoring parameters from gs://tsaikevin-working/models/mnist/cnn_model/model.ckpt-4803\n",
      "INFO:tensorflow:Running local_init_op.\n",
      "INFO:tensorflow:Done running local_init_op.\n",
      "INFO:tensorflow:Evaluation [10/100]\n",
      "INFO:tensorflow:Evaluation [20/100]\n",
      "INFO:tensorflow:Evaluation [30/100]\n",
      "INFO:tensorflow:Evaluation [40/100]\n",
      "INFO:tensorflow:Evaluation [50/100]\n",
      "INFO:tensorflow:Evaluation [60/100]\n",
      "INFO:tensorflow:Evaluation [70/100]\n",
      "INFO:tensorflow:Finished evaluation at 2018-04-16-00:17:13\n",
      "INFO:tensorflow:Saving dict for global step 4803: eval_accuracy = 0.9224, global_step = 4803, loss = 0.28454104\n",
      "INFO:tensorflow:Calling model_fn.\n",
      "INFO:tensorflow:Done calling model_fn.\n",
      "INFO:tensorflow:Create CheckpointSaverHook.\n",
      "INFO:tensorflow:Graph was finalized.\n",
      "INFO:tensorflow:Restoring parameters from gs://tsaikevin-working/models/mnist/cnn_model/model.ckpt-4803\n",
      "INFO:tensorflow:Running local_init_op.\n",
      "INFO:tensorflow:Done running local_init_op.\n",
      "INFO:tensorflow:Saving checkpoints for 4804 into gs://tsaikevin-working/models/mnist/cnn_model/model.ckpt.\n",
      "INFO:tensorflow:loss = 0.20584849, step = 4803\n",
      "INFO:tensorflow:global_step/sec: 239.246\n",
      "INFO:tensorflow:loss = 0.27323326, step = 4903 (0.419 sec)\n",
      "INFO:tensorflow:global_step/sec: 272.295\n",
      "INFO:tensorflow:loss = 0.37497494, step = 5003 (0.367 sec)\n",
      "INFO:tensorflow:global_step/sec: 271.769\n",
      "INFO:tensorflow:loss = 0.34885588, step = 5103 (0.368 sec)\n",
      "INFO:tensorflow:global_step/sec: 271.808\n",
      "INFO:tensorflow:loss = 0.31624126, step = 5203 (0.368 sec)\n",
      "INFO:tensorflow:global_step/sec: 271.51\n",
      "INFO:tensorflow:loss = 0.18968353, step = 5303 (0.368 sec)\n",
      "INFO:tensorflow:global_step/sec: 272.194\n",
      "INFO:tensorflow:loss = 0.3529153, step = 5403 (0.367 sec)\n",
      "INFO:tensorflow:global_step/sec: 271.668\n",
      "INFO:tensorflow:loss = 0.28469798, step = 5503 (0.368 sec)\n",
      "INFO:tensorflow:global_step/sec: 272.549\n",
      "INFO:tensorflow:loss = 0.24090269, step = 5603 (0.367 sec)\n",
      "INFO:tensorflow:global_step/sec: 271.712\n",
      "INFO:tensorflow:loss = 0.33994135, step = 5703 (0.368 sec)\n",
      "INFO:tensorflow:global_step/sec: 271.57\n",
      "INFO:tensorflow:loss = 0.27494353, step = 5803 (0.368 sec)\n",
      "INFO:tensorflow:global_step/sec: 273.231\n",
      "INFO:tensorflow:loss = 0.16076238, step = 5903 (0.366 sec)\n",
      "INFO:tensorflow:global_step/sec: 273.315\n",
      "INFO:tensorflow:loss = 0.40896907, step = 6003 (0.366 sec)\n",
      "INFO:tensorflow:global_step/sec: 273.314\n",
      "INFO:tensorflow:loss = 0.2762633, step = 6103 (0.366 sec)\n",
      "INFO:tensorflow:global_step/sec: 272.714\n",
      "INFO:tensorflow:loss = 0.29715362, step = 6203 (0.367 sec)\n",
      "INFO:tensorflow:global_step/sec: 273.455\n",
      "INFO:tensorflow:loss = 0.23355772, step = 6303 (0.366 sec)\n",
      "INFO:tensorflow:Saving checkpoints for 6318 into gs://tsaikevin-working/models/mnist/cnn_model/model.ckpt.\n",
      "INFO:tensorflow:Loss for final step: 0.27096707.\n",
      "INFO:tensorflow:Calling model_fn.\n",
      "INFO:tensorflow:Done calling model_fn.\n",
      "INFO:tensorflow:Starting evaluation at 2018-04-16-00:17:27\n",
      "INFO:tensorflow:Graph was finalized.\n",
      "INFO:tensorflow:Restoring parameters from gs://tsaikevin-working/models/mnist/cnn_model/model.ckpt-6318\n",
      "INFO:tensorflow:Running local_init_op.\n",
      "INFO:tensorflow:Done running local_init_op.\n",
      "INFO:tensorflow:Evaluation [10/100]\n",
      "INFO:tensorflow:Evaluation [20/100]\n",
      "INFO:tensorflow:Evaluation [30/100]\n",
      "INFO:tensorflow:Evaluation [40/100]\n",
      "INFO:tensorflow:Evaluation [50/100]\n",
      "INFO:tensorflow:Evaluation [60/100]\n",
      "INFO:tensorflow:Evaluation [70/100]\n",
      "INFO:tensorflow:Finished evaluation at 2018-04-16-00:17:28\n",
      "INFO:tensorflow:Saving dict for global step 6318: eval_accuracy = 0.9325, global_step = 6318, loss = 0.23716332\n",
      "INFO:tensorflow:Calling model_fn.\n",
      "INFO:tensorflow:Done calling model_fn.\n",
      "INFO:tensorflow:Create CheckpointSaverHook.\n",
      "INFO:tensorflow:Graph was finalized.\n",
      "INFO:tensorflow:Restoring parameters from gs://tsaikevin-working/models/mnist/cnn_model/model.ckpt-6318\n",
      "INFO:tensorflow:Running local_init_op.\n",
      "INFO:tensorflow:Done running local_init_op.\n",
      "INFO:tensorflow:Saving checkpoints for 6319 into gs://tsaikevin-working/models/mnist/cnn_model/model.ckpt.\n",
      "INFO:tensorflow:loss = 0.3329977, step = 6318\n",
      "INFO:tensorflow:global_step/sec: 230.308\n",
      "INFO:tensorflow:loss = 0.33741516, step = 6418 (0.435 sec)\n",
      "INFO:tensorflow:global_step/sec: 272.541\n",
      "INFO:tensorflow:loss = 0.30103964, step = 6518 (0.367 sec)\n",
      "INFO:tensorflow:global_step/sec: 271.846\n",
      "INFO:tensorflow:loss = 0.39591277, step = 6618 (0.368 sec)\n",
      "INFO:tensorflow:global_step/sec: 271.99\n",
      "INFO:tensorflow:loss = 0.2594709, step = 6718 (0.368 sec)\n",
      "INFO:tensorflow:global_step/sec: 272.586\n",
      "INFO:tensorflow:loss = 0.28293705, step = 6818 (0.367 sec)\n",
      "INFO:tensorflow:global_step/sec: 271.117\n",
      "INFO:tensorflow:loss = 0.25977528, step = 6918 (0.369 sec)\n",
      "INFO:tensorflow:global_step/sec: 271.792\n",
      "INFO:tensorflow:loss = 0.1906442, step = 7018 (0.368 sec)\n",
      "INFO:tensorflow:global_step/sec: 271.146\n",
      "INFO:tensorflow:loss = 0.36740255, step = 7118 (0.369 sec)\n",
      "INFO:tensorflow:global_step/sec: 272.425\n",
      "INFO:tensorflow:loss = 0.23679052, step = 7218 (0.367 sec)\n",
      "INFO:tensorflow:global_step/sec: 271.822\n",
      "INFO:tensorflow:loss = 0.35110268, step = 7318 (0.368 sec)\n",
      "INFO:tensorflow:global_step/sec: 272.617\n",
      "INFO:tensorflow:loss = 0.1901994, step = 7418 (0.367 sec)\n",
      "INFO:tensorflow:global_step/sec: 272.1\n",
      "INFO:tensorflow:loss = 0.16273761, step = 7518 (0.367 sec)\n",
      "INFO:tensorflow:global_step/sec: 271.958\n",
      "INFO:tensorflow:loss = 0.20729864, step = 7618 (0.368 sec)\n",
      "INFO:tensorflow:global_step/sec: 272.585\n",
      "INFO:tensorflow:loss = 0.27136317, step = 7718 (0.367 sec)\n",
      "INFO:tensorflow:global_step/sec: 273.781\n",
      "INFO:tensorflow:loss = 0.15466931, step = 7818 (0.365 sec)\n",
      "INFO:tensorflow:Saving checkpoints for 7843 into gs://tsaikevin-working/models/mnist/cnn_model/model.ckpt.\n",
      "INFO:tensorflow:Loss for final step: 0.24867158.\n",
      "INFO:tensorflow:Calling model_fn.\n",
      "INFO:tensorflow:Done calling model_fn.\n",
      "INFO:tensorflow:Starting evaluation at 2018-04-16-00:17:42\n",
      "INFO:tensorflow:Graph was finalized.\n",
      "INFO:tensorflow:Restoring parameters from gs://tsaikevin-working/models/mnist/cnn_model/model.ckpt-7843\n",
      "INFO:tensorflow:Running local_init_op.\n",
      "INFO:tensorflow:Done running local_init_op.\n",
      "INFO:tensorflow:Evaluation [10/100]\n",
      "INFO:tensorflow:Evaluation [20/100]\n",
      "INFO:tensorflow:Evaluation [30/100]\n",
      "INFO:tensorflow:Evaluation [40/100]\n",
      "INFO:tensorflow:Evaluation [50/100]\n",
      "INFO:tensorflow:Evaluation [60/100]\n",
      "INFO:tensorflow:Evaluation [70/100]\n",
      "INFO:tensorflow:Finished evaluation at 2018-04-16-00:17:43\n",
      "INFO:tensorflow:Saving dict for global step 7843: eval_accuracy = 0.9406, global_step = 7843, loss = 0.20453767\n",
      "INFO:tensorflow:Calling model_fn.\n",
      "INFO:tensorflow:Done calling model_fn.\n",
      "INFO:tensorflow:Create CheckpointSaverHook.\n",
      "INFO:tensorflow:Graph was finalized.\n",
      "INFO:tensorflow:Restoring parameters from gs://tsaikevin-working/models/mnist/cnn_model/model.ckpt-7843\n",
      "INFO:tensorflow:Running local_init_op.\n",
      "INFO:tensorflow:Done running local_init_op.\n",
      "INFO:tensorflow:Saving checkpoints for 7844 into gs://tsaikevin-working/models/mnist/cnn_model/model.ckpt.\n",
      "INFO:tensorflow:loss = 0.2497312, step = 7843\n",
      "INFO:tensorflow:global_step/sec: 238.385\n",
      "INFO:tensorflow:loss = 0.25864142, step = 7943 (0.420 sec)\n",
      "INFO:tensorflow:global_step/sec: 270.672\n",
      "INFO:tensorflow:loss = 0.20883393, step = 8043 (0.369 sec)\n",
      "INFO:tensorflow:global_step/sec: 270.513\n",
      "INFO:tensorflow:loss = 0.1293958, step = 8143 (0.370 sec)\n",
      "INFO:tensorflow:global_step/sec: 270.974\n",
      "INFO:tensorflow:loss = 0.2585246, step = 8243 (0.369 sec)\n",
      "INFO:tensorflow:global_step/sec: 271.567\n",
      "INFO:tensorflow:loss = 0.18337992, step = 8343 (0.368 sec)\n",
      "INFO:tensorflow:global_step/sec: 273.211\n",
      "INFO:tensorflow:loss = 0.17638046, step = 8443 (0.366 sec)\n",
      "INFO:tensorflow:global_step/sec: 272.688\n",
      "INFO:tensorflow:loss = 0.358652, step = 8543 (0.367 sec)\n",
      "INFO:tensorflow:global_step/sec: 272.66\n",
      "INFO:tensorflow:loss = 0.21672624, step = 8643 (0.367 sec)\n",
      "INFO:tensorflow:global_step/sec: 273.745\n",
      "INFO:tensorflow:loss = 0.2643453, step = 8743 (0.365 sec)\n",
      "INFO:tensorflow:global_step/sec: 270.676\n",
      "INFO:tensorflow:loss = 0.12554897, step = 8843 (0.369 sec)\n",
      "INFO:tensorflow:global_step/sec: 270.392\n",
      "INFO:tensorflow:loss = 0.2841851, step = 8943 (0.370 sec)\n",
      "INFO:tensorflow:global_step/sec: 270.933\n",
      "INFO:tensorflow:loss = 0.21847591, step = 9043 (0.369 sec)\n",
      "INFO:tensorflow:global_step/sec: 271.825\n",
      "INFO:tensorflow:loss = 0.2532619, step = 9143 (0.368 sec)\n",
      "INFO:tensorflow:global_step/sec: 272.828\n",
      "INFO:tensorflow:loss = 0.14872502, step = 9243 (0.367 sec)\n",
      "INFO:tensorflow:global_step/sec: 274.039\n",
      "INFO:tensorflow:loss = 0.33058232, step = 9343 (0.365 sec)\n",
      "INFO:tensorflow:Saving checkpoints for 9380 into gs://tsaikevin-working/models/mnist/cnn_model/model.ckpt.\n",
      "INFO:tensorflow:Loss for final step: 0.22907373.\n",
      "INFO:tensorflow:Calling model_fn.\n",
      "INFO:tensorflow:Done calling model_fn.\n",
      "INFO:tensorflow:Starting evaluation at 2018-04-16-00:17:57\n",
      "INFO:tensorflow:Graph was finalized.\n",
      "INFO:tensorflow:Restoring parameters from gs://tsaikevin-working/models/mnist/cnn_model/model.ckpt-9380\n",
      "INFO:tensorflow:Running local_init_op.\n",
      "INFO:tensorflow:Done running local_init_op.\n",
      "INFO:tensorflow:Evaluation [10/100]\n",
      "INFO:tensorflow:Evaluation [20/100]\n",
      "INFO:tensorflow:Evaluation [30/100]\n",
      "INFO:tensorflow:Evaluation [40/100]\n",
      "INFO:tensorflow:Evaluation [50/100]\n",
      "INFO:tensorflow:Evaluation [60/100]\n",
      "INFO:tensorflow:Evaluation [70/100]\n",
      "INFO:tensorflow:Finished evaluation at 2018-04-16-00:17:58\n",
      "INFO:tensorflow:Saving dict for global step 9380: eval_accuracy = 0.9476, global_step = 9380, loss = 0.18018869\n",
      "INFO:tensorflow:Calling model_fn.\n",
      "INFO:tensorflow:Done calling model_fn.\n",
      "INFO:tensorflow:Create CheckpointSaverHook.\n",
      "INFO:tensorflow:Graph was finalized.\n",
      "INFO:tensorflow:Restoring parameters from gs://tsaikevin-working/models/mnist/cnn_model/model.ckpt-9380\n",
      "INFO:tensorflow:Running local_init_op.\n",
      "INFO:tensorflow:Done running local_init_op.\n",
      "INFO:tensorflow:Saving checkpoints for 9381 into gs://tsaikevin-working/models/mnist/cnn_model/model.ckpt.\n",
      "INFO:tensorflow:loss = 0.18542215, step = 9380\n",
      "INFO:tensorflow:global_step/sec: 238.434\n",
      "INFO:tensorflow:loss = 0.24425916, step = 9480 (0.420 sec)\n",
      "INFO:tensorflow:global_step/sec: 272.5\n",
      "INFO:tensorflow:loss = 0.17521532, step = 9580 (0.367 sec)\n",
      "INFO:tensorflow:global_step/sec: 272.072\n",
      "INFO:tensorflow:loss = 0.20848526, step = 9680 (0.368 sec)\n",
      "INFO:tensorflow:global_step/sec: 272.856\n",
      "INFO:tensorflow:loss = 0.22776122, step = 9780 (0.367 sec)\n",
      "INFO:tensorflow:global_step/sec: 272.149\n",
      "INFO:tensorflow:loss = 0.30608281, step = 9880 (0.367 sec)\n",
      "INFO:tensorflow:global_step/sec: 270.404\n",
      "INFO:tensorflow:loss = 0.30708724, step = 9980 (0.370 sec)\n",
      "INFO:tensorflow:Saving checkpoints for 10000 into gs://tsaikevin-working/models/mnist/cnn_model/model.ckpt.\n",
      "INFO:tensorflow:Loss for final step: 0.16989921.\n",
      "INFO:tensorflow:Calling model_fn.\n",
      "INFO:tensorflow:Done calling model_fn.\n",
      "INFO:tensorflow:Starting evaluation at 2018-04-16-00:18:08\n",
      "INFO:tensorflow:Graph was finalized.\n",
      "INFO:tensorflow:Restoring parameters from gs://tsaikevin-working/models/mnist/cnn_model/model.ckpt-10000\n",
      "INFO:tensorflow:Running local_init_op.\n",
      "INFO:tensorflow:Done running local_init_op.\n",
      "INFO:tensorflow:Evaluation [10/100]\n",
      "INFO:tensorflow:Evaluation [20/100]\n",
      "INFO:tensorflow:Evaluation [30/100]\n",
      "INFO:tensorflow:Evaluation [40/100]\n",
      "INFO:tensorflow:Evaluation [50/100]\n",
      "INFO:tensorflow:Evaluation [60/100]\n",
      "INFO:tensorflow:Evaluation [70/100]\n",
      "INFO:tensorflow:Finished evaluation at 2018-04-16-00:18:09\n",
      "INFO:tensorflow:Saving dict for global step 10000: eval_accuracy = 0.9499, global_step = 10000, loss = 0.17271593\n"
     ]
    }
   ],
   "source": [
    "train_spec = tf.estimator.TrainSpec(input_fn=train_input_fn, max_steps=10000)\n",
    "eval_spec  = tf.estimator.EvalSpec(input_fn=eval_input_fn,throttle_secs=10)\n",
    "\n",
    "!gsutil rm -r -f $cnn_dir\n",
    "tf.estimator.train_and_evaluate(cnn_classifier, train_spec, eval_spec)"
   ]
  },
  {
   "cell_type": "code",
   "execution_count": null,
   "metadata": {},
   "outputs": [],
   "source": [
    "predictions = list(cnn_classifier.predict(input_fn=pred_input_fn))"
   ]
  },
  {
   "cell_type": "code",
   "execution_count": 175,
   "metadata": {},
   "outputs": [
    {
     "data": {
      "text/plain": [
       "[{'classes': 7,\n",
       "  'logits': array([-1.3669001, -3.1837673,  2.1785562,  3.4403033, -3.9880397,\n",
       "         -1.8376987, -7.1326175, 11.93027  , -1.5165192,  2.2645476],\n",
       "        dtype=float32),\n",
       "  'probabilities': array([1.6786806e-06, 2.7284301e-07, 5.8175545e-05, 2.0545181e-04,\n",
       "         1.2207357e-07, 1.0483419e-06, 5.2595577e-09, 9.9966836e-01,\n",
       "         1.4454043e-06, 6.3399501e-05], dtype=float32)},\n",
       " {'classes': 2,\n",
       "  'logits': array([ 0.993901  ,  4.388221  , 10.866372  ,  3.6969922 , -7.6390357 ,\n",
       "          0.85256153,  1.005478  , -7.6581225 ,  2.3213143 , -8.922553  ],\n",
       "        dtype=float32),\n",
       "  'probabilities': array([5.1438845e-05, 1.5325882e-03, 9.9735743e-01, 7.6776551e-04,\n",
       "         9.1633554e-09, 4.4658933e-05, 5.2037794e-05, 8.9901135e-09,\n",
       "         1.9399011e-04, 2.5388078e-09], dtype=float32)},\n",
       " {'classes': 1,\n",
       "  'logits': array([-2.233559  ,  7.103354  ,  0.29161653, -0.44583791, -0.23784089,\n",
       "         -1.3515053 ,  0.63839936,  0.57049984,  0.5826721 , -1.319123  ],\n",
       "        dtype=float32),\n",
       "  'probabilities': array([8.7474109e-05, 9.9277169e-01, 1.0928218e-03, 5.2272948e-04,\n",
       "         6.4358936e-04, 2.1132499e-04, 1.5458073e-03, 1.4443315e-03,\n",
       "         1.4620197e-03, 2.1828011e-04], dtype=float32)}]"
      ]
     },
     "execution_count": 175,
     "metadata": {},
     "output_type": "execute_result"
    }
   ],
   "source": [
    "predictions[0:3]"
   ]
  },
  {
   "cell_type": "code",
   "execution_count": 177,
   "metadata": {},
   "outputs": [],
   "source": [
    "def serving_input_receiver_fn():\n",
    "    receiver_tensor = {'x': tf.placeholder(shape=[None,28,28,1], dtype=tf.float32)}\n",
    "    features = {'x': receiver_tensor['x']}\n",
    "    return tf.estimator.export.ServingInputReceiver(features, receiver_tensor)"
   ]
  },
  {
   "cell_type": "code",
   "execution_count": 178,
   "metadata": {},
   "outputs": [
    {
     "name": "stdout",
     "output_type": "stream",
     "text": [
      "INFO:tensorflow:Calling model_fn.\n",
      "INFO:tensorflow:Done calling model_fn.\n",
      "INFO:tensorflow:Signatures INCLUDED in export for Predict: ['predictions', 'serving_default']\n",
      "INFO:tensorflow:Signatures INCLUDED in export for Regress: None\n",
      "INFO:tensorflow:Signatures INCLUDED in export for Classify: None\n",
      "INFO:tensorflow:Restoring parameters from gs://tsaikevin-working/models/mnist/cnn_model/model.ckpt-20000\n",
      "INFO:tensorflow:Assets added to graph.\n",
      "INFO:tensorflow:No assets to write.\n",
      "INFO:tensorflow:SavedModel written to: b\"gs://tsaikevin-working/models/mnist/cnn_model/temp-b'1523267572'/saved_model.pb\"\n"
     ]
    },
    {
     "data": {
      "text/plain": [
       "b'gs://tsaikevin-working/models/mnist/cnn_model/1523267572'"
      ]
     },
     "execution_count": 178,
     "metadata": {},
     "output_type": "execute_result"
    }
   ],
   "source": [
    "cnn_classifier.export_savedmodel(\n",
    "    export_dir_base=cnn_dir,serving_input_receiver_fn=serving_input_receiver_fn)"
   ]
  },
  {
   "cell_type": "code",
   "execution_count": null,
   "metadata": {},
   "outputs": [],
   "source": []
  }
 ],
 "metadata": {
  "kernelspec": {
   "display_name": "Python 3",
   "language": "python",
   "name": "python3"
  },
  "language_info": {
   "codemirror_mode": {
    "name": "ipython",
    "version": 3
   },
   "file_extension": ".py",
   "mimetype": "text/x-python",
   "name": "python",
   "nbconvert_exporter": "python",
   "pygments_lexer": "ipython3",
   "version": "3.5.2"
  }
 },
 "nbformat": 4,
 "nbformat_minor": 2
}
