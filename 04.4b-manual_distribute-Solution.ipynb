{
 "cells": [
  {
   "cell_type": "code",
   "execution_count": null,
   "metadata": {},
   "outputs": [],
   "source": [
    "import tensorflow as tf\n",
    "from tensorflow.python.client import device_lib\n",
    "import numpy as np\n",
    "from numpy import genfromtxt\n"
   ]
  },
  {
   "cell_type": "code",
   "execution_count": null,
   "metadata": {},
   "outputs": [],
   "source": [
    "xtrain = genfromtxt('https://storage.googleapis.com/tsaikevin-data/iris/iris_training.csv', delimiter=',')[1:,:4]\n",
    "ytrain = genfromtxt('https://storage.googleapis.com/tsaikevin-data/iris/iris_training.csv', delimiter=',')[1:,4]\n",
    "xtest = genfromtxt('https://storage.googleapis.com/tsaikevin-data/iris/iris_test.csv', delimiter=',')[1:,:4]\n",
    "ytest = genfromtxt('https://storage.googleapis.com/tsaikevin-data/iris/iris_test.csv', delimiter=',')[1:,4]\n"
   ]
  },
  {
   "cell_type": "code",
   "execution_count": null,
   "metadata": {},
   "outputs": [],
   "source": [
    "gpus = [x.name for x in device_lib.list_local_devices() if x.device_type == 'GPU']\n",
    "\n",
    "\n",
    "m,n = xtrain.shape\n",
    "c = np.unique(ytrain)\n",
    "h = 6\n",
    "len(c), n, h"
   ]
  },
  {
   "cell_type": "code",
   "execution_count": null,
   "metadata": {},
   "outputs": [],
   "source": [
    "tf.reset_default_graph()\n",
    "\n",
    "W = tf.Variable(tf.truncated_normal(shape=[n,h],stddev=0.01,dtype=tf.float32),name='W')\n",
    "b = tf.Variable(tf.constant(0.0,shape=[h],dtype=tf.float32),name='b')\n",
    "H = tf.Variable(tf.truncated_normal(shape=[h,len(c)],stddev=0.01,dtype=tf.float32),name='H')\n",
    "B = tf.Variable(tf.constant(0.0,shape=[len(c)],dtype=tf.float32),name='B')\n",
    "x = tf.placeholder(tf.float32,shape=[None,n],name='x')\n",
    "y = tf.placeholder(tf.int64, [None],name='y')\n",
    "\n",
    "def model_fn(x,y,W,b,H,B,lmbd,name='tower',infer=False):\n",
    "    with tf.name_scope(name):\n",
    "        logits = tf.add(tf.matmul(tf.nn.relu(tf.add(tf.matmul(x,W),b)),H),B)\n",
    "        probs = tf.nn.softmax(logits,axis=1)\n",
    "        ypred = tf.argmax(probs,dimension=1)\n",
    "        if infer==False:\n",
    "            reg = tf.multiply(lmbd,tf.reduce_sum(tf.square(W)) + tf.reduce_sum(tf.square(b)) + tf.reduce_sum(tf.square(H)) + tf.reduce_sum(tf.square(B)))\n",
    "            loss = tf.losses.sparse_softmax_cross_entropy(y,logits) + reg\n",
    "            dW,db,dH,dB = tf.gradients(xs=[W, b, H, B], ys=loss)\n",
    "        else:\n",
    "            loss = tf.zeros([1],dtype=tf.float32)\n",
    "            dW = loss\n",
    "            db = loss\n",
    "            dH = loss\n",
    "            dB = loss\n",
    "        return ypred,loss,dW,db,dH,dB\n",
    "\n",
    "init = tf.global_variables_initializer()"
   ]
  },
  {
   "cell_type": "code",
   "execution_count": null,
   "metadata": {},
   "outputs": [],
   "source": [
    "l = np.arange(m)\n",
    "batch_size = 16\n",
    "steps = 10000\n",
    "\n",
    "i = 0\n",
    "lr = 0.005\n",
    "lmbd = 0.01\n",
    "\n",
    "ypred,loss,dW,db,dH,dB = model_fn(x,y,W,b,H,B,lmbd,name='tower0',infer=False)\n",
    "y_,_,_,_,_,_           = model_fn(x,y,W,b,H,B,lmbd,name='tower0',infer=True)\n",
    "\n",
    "dummy = [W.assign(W - lr*dW),b.assign(b - lr*db),H.assign(H - lr*dH),B.assign(B - lr*dB)]\n",
    "\n",
    "sess = tf.Session()\n",
    "sess.run(init)\n",
    "\n",
    "for step in range(0,steps):\n",
    "    j = l[(i + batch_size) % len(l)]\n",
    "    if i>j:\n",
    "        z = np.concatenate((np.arange(i,m),np.arange(j)))\n",
    "    else:\n",
    "        z = np.arange(i,j)\n",
    "    i = l[j % len(l)]\n",
    "    X = xtrain[z,:]\n",
    "    Y = ytrain[z]\n",
    "\n",
    "    preds,ls,_ = sess.run([ypred,loss,dummy],feed_dict={x:X,y:Y})\n",
    "    \n",
    "    if step%(steps/10)==0:\n",
    "        print(ls)\n",
    "    \n",
    "Xt = xtest[:,:]\n",
    "Yt = ytest[:]\n",
    "y_ = sess.run([y_],feed_dict={x:Xt,y:Yt})\n",
    "print('Test Accuracy:',np.sum(y_[0]==ytest),'/',len(ytest))\n"
   ]
  },
  {
   "cell_type": "code",
   "execution_count": null,
   "metadata": {},
   "outputs": [],
   "source": [
    "gpus\n"
   ]
  },
  {
   "cell_type": "code",
   "execution_count": null,
   "metadata": {},
   "outputs": [],
   "source": [
    "devs = len(gpus)\n",
    "Ypred = []\n",
    "Loss = []\n",
    "DW = []\n",
    "Db = []\n",
    "DH = []\n",
    "DB = []\n",
    "\n",
    "for dev in range(0,devs):\n",
    "    with tf.device(gpus[dev]):\n",
    "        ypred,loss,dW,db,dH,dB = model_fn(x,y,W,b,H,B,lmbd,name='tower'+str(dev),infer=False)\n",
    "        Ypred.append(ypred)\n",
    "        Loss.append(loss)\n",
    "        DW.append(dW)\n",
    "        Db.append(db)\n",
    "        DH.append(dH)\n",
    "        DB.append(dB)\n",
    "        "
   ]
  },
  {
   "cell_type": "code",
   "execution_count": null,
   "metadata": {},
   "outputs": [],
   "source": [
    "print (tf.get_default_graph().as_graph_def())"
   ]
  },
  {
   "cell_type": "code",
   "execution_count": null,
   "metadata": {},
   "outputs": [],
   "source": [
    "with tf.device('/cpu:0'):\n",
    "    sYpred = tf.concat(Ypred,axis=0)\n",
    "    sLoss = tf.add_n(Loss)\n",
    "    sDW = tf.divide(tf.add_n(DW),devs)\n",
    "    sDb = tf.divide(tf.add_n(Db),devs)\n",
    "    sDH = tf.divide(tf.add_n(DH),devs)\n",
    "    sDB = tf.divide(tf.add_n(DB),devs)\n",
    "    \n",
    "    dummy = [W.assign(W - lr*sDW),b.assign(b - lr*sDb),H.assign(H - lr*sDH),B.assign(B - lr*sDB)]"
   ]
  },
  {
   "cell_type": "code",
   "execution_count": null,
   "metadata": {},
   "outputs": [],
   "source": []
  }
 ],
 "metadata": {
  "kernelspec": {
   "display_name": "Python 3",
   "language": "python",
   "name": "python3"
  },
  "language_info": {
   "codemirror_mode": {
    "name": "ipython",
    "version": 3
   },
   "file_extension": ".py",
   "mimetype": "text/x-python",
   "name": "python",
   "nbconvert_exporter": "python",
   "pygments_lexer": "ipython3",
   "version": "3.5.2"
  }
 },
 "nbformat": 4,
 "nbformat_minor": 2
}
